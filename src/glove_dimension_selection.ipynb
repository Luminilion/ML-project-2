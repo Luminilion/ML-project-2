{
 "cells": [
  {
   "cell_type": "markdown",
   "metadata": {},
   "source": [
    "# Machine Learning Project 2"
   ]
  },
  {
   "cell_type": "code",
   "execution_count": 1,
   "metadata": {},
   "outputs": [],
   "source": [
    "# Imports\n",
    "import pandas as pd\n",
    "import numpy as np"
   ]
  },
  {
   "cell_type": "markdown",
   "metadata": {},
   "source": [
    "---\n",
    "## Generic Functions\n",
    "Here we define all the functions to be used."
   ]
  },
  {
   "cell_type": "markdown",
   "metadata": {},
   "source": [
    "### 1. Data Loading"
   ]
  },
  {
   "cell_type": "code",
   "execution_count": 2,
   "metadata": {},
   "outputs": [],
   "source": [
    "def load_data(data_path, pos_file, neg_file, size=1_250_000): \n",
    "\n",
    "    # positive\n",
    "    pos = pd.read_table(data_path+pos_file, sep='.\\n', names=['tweet'], engine='python')\n",
    "    pos['label']=1\n",
    "    print(f\"Loaded POS data, correctly interpreted 1-tweet-per-line fashion : {pos.shape[0]==size}\")\n",
    "\n",
    "    # negative\n",
    "    neg = pd.read_table(data_path+neg_file, sep='.\\n', names=['tweet'], engine='python')\n",
    "    neg['label']=-1\n",
    "    print(f\"Loaded NEG data, correctly interpreted 1-tweet-per-line fashion : {neg.shape[0]==size}\")\n",
    "\n",
    "    # Data sizes\n",
    "    print(f\"Number of tweets : (POS) {pos.shape[0]} (NEG) {neg.shape[0]}\\n\")\n",
    "\n",
    "    # Merge datasets to get a complete training set\n",
    "    tweets = pos.append(neg)\n",
    "    return tweets"
   ]
  },
  {
   "cell_type": "code",
   "execution_count": 3,
   "metadata": {},
   "outputs": [],
   "source": [
    "from glove_helper import concatenate\n",
    "\n",
    "def load_embeddings_and_vocab(embeddings_loc, embeddings_path, vocab_loc, divided=False) :\n",
    "    \n",
    "    ## Load word embeddings and vocabulary to compute word vectors of tweets -----------------------------------\n",
    "    \n",
    "    # Load word embeddings\n",
    "    embeddings=None\n",
    "    if divided : \n",
    "        embeddings = concatenate(embeddings_files, embeddings_path)\n",
    "    else :\n",
    "        embeddings = np.load(embeddings_path+embeddings_loc)\n",
    "    print(f'Loaded word embeddings in structure of type {type(embeddings)}.')\n",
    "\n",
    "    # Loading vocab\n",
    "    words = pd.read_table(vocab_loc, sep='.\\n', names=['word'], engine='python', squeeze=True, na_values=np.nan)\n",
    "    print(f'Loaded word vocabulary in structure of type {type(words)}.')\n",
    "\n",
    "    # Check that the vocabulary encompasses all embedded words\n",
    "    print(f'\\nBoth the embeddings and the vocabulary are same length :  {len(embeddings)==words.shape[0]}')\n",
    "    print(f\"Embeddings: {embeddings.shape}, vocab: {words.shape}\")\n",
    "\n",
    "    ## Clean the data --------------------------------------------------------------------------------------------\n",
    "\n",
    "    # Drop NaN values in vocab\n",
    "    nas = words.isna()\n",
    "    words.dropna(inplace=True)\n",
    "    # Drop NaN words in embeddings\n",
    "    embeddings = np.delete(embeddings, nas[nas].index.values, axis=0)\n",
    "    \n",
    "    print(f'NaN values were dropped in both tables: {len(embeddings)==words.shape[0]}')\n",
    "    print(f\"Embeddings: {embeddings.shape}, vocab: {words.shape}\")\n",
    "\n",
    "    ## Process data ---------------------------------------------------------------------------------------------\n",
    "    \n",
    "    # Index by words for faster index-for-word search\n",
    "    words = pd.DataFrame(data=words.index, index=words.values)\n",
    "    embeddings = pd.DataFrame(embeddings, index=words.index)\n",
    "    \n",
    "    return embeddings, words"
   ]
  },
  {
   "cell_type": "markdown",
   "metadata": {},
   "source": [
    "### 2. Data Resampling"
   ]
  },
  {
   "cell_type": "code",
   "execution_count": 4,
   "metadata": {},
   "outputs": [],
   "source": [
    "from sklearn.utils import resample\n",
    "\n",
    "def resample_data(data, size, label=1, seed=None) :\n",
    "    # Get pos and neg datasets\n",
    "    pos, neg = data.loc[data['label']==label], data.loc[data['label']!=label]\n",
    "    \n",
    "    # Get samples balanced by classes\n",
    "    n = int(size/2)\n",
    "    pos_ = resample(pos, n_samples=n, replace=False, random_state=seed)\n",
    "    neg_ = resample(neg, n_samples=n, replace=False, random_state=seed)\n",
    "    \n",
    "    # reform dataset\n",
    "    data_ = pos_.append(neg_)\n",
    "\n",
    "    return data_"
   ]
  },
  {
   "cell_type": "markdown",
   "metadata": {},
   "source": [
    "### 3. Data Embedding"
   ]
  },
  {
   "cell_type": "code",
   "execution_count": 5,
   "metadata": {},
   "outputs": [],
   "source": [
    "def word_vector(tweet, embeddings, embeddings_dim, vocab, agg_func=None):\n",
    "    \"\"\"\n",
    "    Creates the feature vector corresponding to the tweet.\n",
    "    To do so, computes the mean of the word embeddings corresponding to the vocabulary words in the tweet.\n",
    "    \n",
    "    Parameters \n",
    "    ----------\n",
    "    tweet : str\n",
    "        Input tweet from which the word vector is created.\n",
    "    \"\"\"\n",
    "    split_by_words = tweet.split()\n",
    "    embed_list = []\n",
    "    \n",
    "    # Get words in tweet that are in vocab\n",
    "    # Get embeddings for these words\n",
    "    for w in split_by_words:\n",
    "        if w in vocab.index :\n",
    "            embed_list.append(  embeddings.loc[w].values  )\n",
    "            \n",
    "    if agg_func is None :\n",
    "        agg_func = lambda x : np.mean(x, axis=0)\n",
    "    \n",
    "    result = None\n",
    "    # If no vocab word create an empty vector for the tweet\n",
    "    if not embed_list :\n",
    "        result = np.zeros(embeddings_dim)\n",
    "        \n",
    "    # Else aggregate the word embeddings\n",
    "    else :\n",
    "        result = agg_func(embed_list)\n",
    "    \n",
    "    # Be sure to output a list to store in dataframe\n",
    "    if type(result) is not list:\n",
    "        result = result.tolist()\n",
    "    \n",
    "    return result"
   ]
  },
  {
   "cell_type": "code",
   "execution_count": 6,
   "metadata": {},
   "outputs": [],
   "source": [
    "from glove_helper import concatenate\n",
    "\n",
    "def load_word_vectors(file_path, file_loc, divided=False): \n",
    "    # Load pre-computed word vectors file\n",
    "    precomputed = None\n",
    "    if divided :\n",
    "        print('Loading from divided dataset...')\n",
    "        precomputed = concatenate(word_vectors_files, file_path)\n",
    "    else : \n",
    "        precomputed = np.load(file_path+file_loc, allow_pickle=True)\n",
    "        \n",
    "    precomputed = pd.DataFrame(precomputed, columns=['index', 'label', 'mean_embed'])\n",
    "    print('Successfully loaded from file!')\n",
    "    \n",
    "    return precomputed"
   ]
  },
  {
   "cell_type": "code",
   "execution_count": 7,
   "metadata": {},
   "outputs": [],
   "source": [
    "from project2_helper import isAdmin, parallelize\n",
    "\n",
    "def compute_word_vectors(data, embeddings, embeddings_dim, vocab, agg_func=None) :\n",
    "    data = data.copy()\n",
    "    \n",
    "    # compute function to run on tweets\n",
    "    func = lambda t : word_vector(t, embeddings, embeddings_dim, vocab, agg_func=agg_func)\n",
    "    \n",
    "    if isAdmin():\n",
    "        print('Process is run as admin. Running parallelized computation...')\n",
    "        data['mean_embed']= parallelize(data['tweet'], func)\n",
    "    else : \n",
    "        print('Process is not run as admin. Cannot run parallelized setting, running as sequential...')\n",
    "        data['mean_embed']= data['tweet'].map(func)\n",
    "\n",
    "    return data"
   ]
  },
  {
   "cell_type": "code",
   "execution_count": 8,
   "metadata": {},
   "outputs": [],
   "source": [
    "def save_word_vectors(data, file_path, ending=None):\n",
    "    \n",
    "    # Get word vectors information\n",
    "    word_vectors = data[['label', 'mean_embed']].reset_index()\n",
    "    dim = len(word_vectors.loc[0, 'mean_embed'])\n",
    "    \n",
    "    # Name file to format : path/word_vectors_xxnsamplesxx_xxembeddimxx_ending_npy\n",
    "    name = file_path + 'word_vectors_' + str(data.shape[0]) + '_' + str(dim)\n",
    "    # Add ending if requested\n",
    "    if ending is not None :\n",
    "        name = name+'_'+str(ending)\n",
    "    \n",
    "    # save data\n",
    "    np.save(name, word_vectors)\n",
    "    \n",
    "    return True"
   ]
  },
  {
   "cell_type": "markdown",
   "metadata": {},
   "source": [
    "### 4. Data Pre-processing"
   ]
  },
  {
   "cell_type": "code",
   "execution_count": 9,
   "metadata": {},
   "outputs": [],
   "source": [
    "from sklearn.model_selection import train_test_split\n",
    "\n",
    "def split_dataset(data, test_size=0.25) : \n",
    "\n",
    "    # Split into training and testing data\n",
    "    train, test = train_test_split(data, test_size=test_size)\n",
    "    print(f\"Local training set size : {train.shape[0]}.\")\n",
    "    print(f\"Local testing set size : {test.shape[0]}.\\n\")\n",
    "     \n",
    "    # Create features and labels datasets\n",
    "    xtrain, ytrain = np.array(train.mean_embed.tolist()), np.array(train.label.to_list())\n",
    "    xtest, ytest = np.array(test.mean_embed.tolist()), np.array(test.label.tolist())\n",
    "\n",
    "    print(f'Training sample shape: {xtrain.shape[1:]}')\n",
    "    print(f'Testing sample shape: {xtest.shape[1:]}')\n",
    "    \n",
    "    return xtrain, ytrain, xtest, ytest"
   ]
  },
  {
   "cell_type": "code",
   "execution_count": 10,
   "metadata": {},
   "outputs": [],
   "source": [
    "from sklearn.preprocessing import StandardScaler, PolynomialFeatures\n",
    "\n",
    "def preprocess(X) :\n",
    "    x=X.copy()\n",
    "    \n",
    "    ## Standardize data\n",
    "    # If features are list of features of different sizes, standardization has to be made list-wise\n",
    "    if len(np.array(x).shape) == 1 : \n",
    "        x = np.array([ StandardScaler().fit_transform(a) for a in x ])\n",
    "    else :\n",
    "        x = StandardScaler().fit_transform(x)\n",
    "    \n",
    "    ## TODO Polynomial features and interactions\n",
    "    \n",
    "    ## other data preprocessing\n",
    "    \n",
    "    return x"
   ]
  },
  {
   "cell_type": "markdown",
   "metadata": {},
   "source": [
    "### 5. Generate submission"
   ]
  },
  {
   "cell_type": "code",
   "execution_count": 11,
   "metadata": {},
   "outputs": [],
   "source": [
    "# To format the testing data\n",
    "def extract_tweet(tweet):\n",
    "    return tweet.split(\",\", 1)[1]"
   ]
  },
  {
   "cell_type": "code",
   "execution_count": 12,
   "metadata": {},
   "outputs": [],
   "source": [
    "def get_test_data(data_path, test_file='test_data.txt') :\n",
    "    # Load the testing data\n",
    "    test = pd.read_fwf(data_path+test_file, sep=\"\\n\", header=None)\n",
    "    test = test.rename(columns={0:'tweet', 1:'na1', 2:'na2'})\n",
    "\n",
    "    # Reformating it for submission\n",
    "    test.index = test.index+1 # Format asked by AI Crowd\n",
    "    test = test['tweet'].map(extract_tweet).to_frame()\n",
    "\n",
    "    return test"
   ]
  },
  {
   "cell_type": "code",
   "execution_count": 13,
   "metadata": {},
   "outputs": [],
   "source": [
    "# Creating submission file\n",
    "import csv\n",
    "def create_csv_submission(ids, y_pred, name):\n",
    "    \"\"\"\n",
    "    Creates an output file in csv format for submission to kaggle\n",
    "    Arguments: ids (event ids associated with each prediction)\n",
    "               y_pred (predicted class labels)\n",
    "               name (string name of .csv output file to be created)\n",
    "    \"\"\"\n",
    "    with open(name, 'w', newline='') as csvfile:\n",
    "        fieldnames = ['Id', 'Prediction']\n",
    "        writer = csv.DictWriter(csvfile, delimiter=\",\", fieldnames=fieldnames)\n",
    "        writer.writeheader()\n",
    "        for r1, r2 in zip(ids, y_pred):\n",
    "            writer.writerow({'Id':int(r1),'Prediction':int(r2)})"
   ]
  },
  {
   "cell_type": "markdown",
   "metadata": {},
   "source": [
    "---"
   ]
  },
  {
   "cell_type": "markdown",
   "metadata": {},
   "source": [
    "---\n",
    "## Data pre-training"
   ]
  },
  {
   "cell_type": "code",
   "execution_count": 17,
   "metadata": {},
   "outputs": [],
   "source": [
    "from sklearn.metrics import accuracy_score, classification_report, precision_recall_fscore_support\n",
    "from sklearn.neural_network import MLPClassifier\n",
    "import matplotlib.pyplot as plt\n",
    "\n",
    "data_path = '../data/'\n",
    "pos_data = 'train_pos_full.txt'\n",
    "neg_data = 'train_neg_full.txt'\n",
    "\n",
    "precomputed_path = '../precomputed_data/'\n",
    "vocab_loc = '../data/vocab_cut.txt'\n",
    "path = '../results/'\n",
    "\n",
    "data_size = 500_000\n",
    "\n",
    "def word_vector_creation_automated(embeddings_files):\n",
    "    \n",
    "    tweets = load_data(data_path, pos_data, neg_data)\n",
    "    tweets_ = resample_data(tweets, data_size, seed=1)\n",
    "    \n",
    "    for embeddings_file in embeddings_files:\n",
    "        print(embeddings_file)        \n",
    "        embeddings, vocab = load_embeddings_and_vocab(embeddings_file, precomputed_path, vocab_loc)\n",
    "\n",
    "        word_vector = compute_word_vectors(tweets_, embeddings, embeddings.shape[1], vocab) \n",
    "        save_word_vectors(word_vector, precomputed_path)\n",
    "        \n",
    "        del embeddings\n",
    "        del vocab\n",
    "        del word_vector\n",
    "        \n",
    "def NN(embeddings_dim_info):\n",
    "    \n",
    "    divided_word_vectors = False\n",
    "    word_vectors_files = \"word_vectors_500000_\" + str(embeddings_dim_info) + \"final.npy\"\n",
    "    \n",
    "    tweets_ = load_word_vectors(\n",
    "    precomputed_path, \n",
    "    word_vectors_files, \n",
    "    divided=divided_word_vectors)\n",
    "    \n",
    "    #### BASELINE : Neural Networks\n",
    "    \n",
    "    # Train-test split data\n",
    "    xtrain_, ytrain_, xtest_, ytest_ = split_dataset(tweets_)\n",
    "    \n",
    "    del tweets_\n",
    "\n",
    "    # Pre-process training set\n",
    "    xtrain_ = preprocess(xtrain_)\n",
    "    xtest_ = preprocess(xtest_)\n",
    "\n",
    "    # Neural Network\n",
    "    nn_classifier = MLPClassifier().fit(xtrain_,ytrain_)\n",
    "\n",
    "    # Compute predictions\n",
    "    predtest_ = nn_classifier.predict(xtest_)\n",
    "\n",
    "    metrics = classification_report(ytest_, predtest_, labels=[1,-1], target_names=['pos', 'neg'], digits=5, output_dict=True)\n",
    "\n",
    "    # Save baseline results\n",
    "    name = path+'metrics_'+str(data_size)+'_'+str(embeddings_dim_info)+'_baseline'\n",
    "    np.save(name, metrics)\n",
    "\n",
    "\n",
    "def train_NN_in_row():\n",
    "    \n",
    "    D = [20,50,100,140,180,190,200,220,250,280,300,340,360,400,420,500]\n",
    "\n",
    "    for d in D:\n",
    "        print(d)\n",
    "        NN(d)\n",
    "\n",
    "        \n",
    "def plot_dim(D):\n",
    "    accs = []\n",
    "    precs = []\n",
    "    recs = []\n",
    "    f1s = []\n",
    "    for d in D :\n",
    "        print(f'\\n{d} dimensions\\n')\n",
    "        name = path+'metrics_'+str(data_size)+'_'+str(d)+'_baseline.npy'\n",
    "        r = np.load(name, allow_pickle=True)\n",
    "        r = r.item()\n",
    "        print(f\"Accuracy : {r['accuracy']}\")\n",
    "        print(f\"{'Label':10s} | {'precision':10s} | {'recall':10s} | {'f1-score':10s}\")\n",
    "        print(f\"{'pos':10s} | {r['pos']['precision']:10f} | {r['pos']['recall']:10f} | {r['pos']['f1-score']:10f}\")    \n",
    "        print(f\"{'neg':10s} | {r['neg']['precision']:10f} | {r['neg']['recall']:10f} | {r['neg']['f1-score']:10f}\")  \n",
    "        accs.append(r['accuracy'])\n",
    "        precs.append(r['pos']['precision'])\n",
    "        recs.append(r['pos']['recall'])\n",
    "        f1s.append(r['pos']['f1-score'])\n",
    "\n",
    "    plt.plot(D, accs)\n",
    "    plt.plot(D, precs)\n",
    "    plt.plot(D, recs)\n",
    "    plt.plot(D, f1s)\n",
    "    plt.legend(['accuracy','precision','recall','f1-score'])\n",
    "    plt.xticks(ticks=np.arange(0,500,50))\n",
    "    #plt.vlines(190,ymin=0.53, ymax=0.725, color='black')\n",
    "    name = '../plots/'+'metrics_'+str(data_size)+'_dims_baseline.png'\n",
    "    plt.savefig(name, dpi=1000)\n",
    "    plt.show()"
   ]
  },
  {
   "cell_type": "code",
   "execution_count": 18,
   "metadata": {},
   "outputs": [
    {
     "name": "stdout",
     "output_type": "stream",
     "text": [
      "Loaded POS data, correctly interpreted 1-tweet-per-line fashion : True\n",
      "Loaded NEG data, correctly interpreted 1-tweet-per-line fashion : True\n",
      "Number of tweets : (POS) 1250000 (NEG) 1250000\n",
      "\n",
      "embeddings_full_22epoch_250dim.npy\n",
      "Loaded word embeddings in structure of type <class 'numpy.ndarray'>.\n",
      "Loaded word vocabulary in structure of type <class 'pandas.core.series.Series'>.\n",
      "\n",
      "Both the embeddings and the vocabulary are same length :  True\n",
      "Embeddings: (101298, 250), vocab: (101298,)\n",
      "NaN values were dropped in both tables: True\n",
      "Embeddings: (101296, 250), vocab: (101296,)\n",
      "Process is not run as admin. Cannot run parallelized setting, running as sequential...\n"
     ]
    }
   ],
   "source": [
    "embeddings_files = [\"embeddings_full_22epoch_250dim.npy\"]\n",
    "\n",
    "word_vector_creation_automated(embeddings_files)"
   ]
  },
  {
   "cell_type": "code",
   "execution_count": 15,
   "metadata": {},
   "outputs": [
    {
     "name": "stdout",
     "output_type": "stream",
     "text": [
      "20\n",
      "Successfully loaded from file!\n",
      "Local training set size : 375000.\n",
      "Local testing set size : 125000.\n",
      "\n",
      "Training sample shape: (20,)\n",
      "Testing sample shape: (20,)\n",
      "50\n",
      "Successfully loaded from file!\n",
      "Local training set size : 375000.\n",
      "Local testing set size : 125000.\n",
      "\n",
      "Training sample shape: (50,)\n",
      "Testing sample shape: (50,)\n",
      "100\n",
      "Successfully loaded from file!\n",
      "Local training set size : 375000.\n",
      "Local testing set size : 125000.\n",
      "\n",
      "Training sample shape: (100,)\n",
      "Testing sample shape: (100,)\n",
      "140\n",
      "Successfully loaded from file!\n",
      "Local training set size : 375000.\n",
      "Local testing set size : 125000.\n",
      "\n",
      "Training sample shape: (140,)\n",
      "Testing sample shape: (140,)\n"
     ]
    },
    {
     "name": "stderr",
     "output_type": "stream",
     "text": [
      "/home/loic/anaconda3/lib/python3.8/site-packages/sklearn/neural_network/_multilayer_perceptron.py:582: ConvergenceWarning: Stochastic Optimizer: Maximum iterations (200) reached and the optimization hasn't converged yet.\n",
      "  warnings.warn(\n"
     ]
    },
    {
     "name": "stdout",
     "output_type": "stream",
     "text": [
      "180\n",
      "Successfully loaded from file!\n",
      "Local training set size : 375000.\n",
      "Local testing set size : 125000.\n",
      "\n",
      "Training sample shape: (180,)\n",
      "Testing sample shape: (180,)\n",
      "190\n",
      "Successfully loaded from file!\n",
      "Local training set size : 375000.\n",
      "Local testing set size : 125000.\n",
      "\n",
      "Training sample shape: (190,)\n",
      "Testing sample shape: (190,)\n"
     ]
    },
    {
     "name": "stderr",
     "output_type": "stream",
     "text": [
      "/home/loic/anaconda3/lib/python3.8/site-packages/sklearn/neural_network/_multilayer_perceptron.py:582: ConvergenceWarning: Stochastic Optimizer: Maximum iterations (200) reached and the optimization hasn't converged yet.\n",
      "  warnings.warn(\n"
     ]
    },
    {
     "name": "stdout",
     "output_type": "stream",
     "text": [
      "200\n",
      "Successfully loaded from file!\n",
      "Local training set size : 375000.\n",
      "Local testing set size : 125000.\n",
      "\n",
      "Training sample shape: (200,)\n",
      "Testing sample shape: (200,)\n"
     ]
    },
    {
     "name": "stderr",
     "output_type": "stream",
     "text": [
      "/home/loic/anaconda3/lib/python3.8/site-packages/sklearn/neural_network/_multilayer_perceptron.py:582: ConvergenceWarning: Stochastic Optimizer: Maximum iterations (200) reached and the optimization hasn't converged yet.\n",
      "  warnings.warn(\n"
     ]
    },
    {
     "name": "stdout",
     "output_type": "stream",
     "text": [
      "220\n",
      "Successfully loaded from file!\n",
      "Local training set size : 375000.\n",
      "Local testing set size : 125000.\n",
      "\n",
      "Training sample shape: (220,)\n",
      "Testing sample shape: (220,)\n"
     ]
    },
    {
     "name": "stderr",
     "output_type": "stream",
     "text": [
      "/home/loic/anaconda3/lib/python3.8/site-packages/sklearn/neural_network/_multilayer_perceptron.py:582: ConvergenceWarning: Stochastic Optimizer: Maximum iterations (200) reached and the optimization hasn't converged yet.\n",
      "  warnings.warn(\n"
     ]
    },
    {
     "name": "stdout",
     "output_type": "stream",
     "text": [
      "250\n",
      "Successfully loaded from file!\n",
      "Local training set size : 375000.\n",
      "Local testing set size : 125000.\n",
      "\n",
      "Training sample shape: (250,)\n",
      "Testing sample shape: (250,)\n"
     ]
    },
    {
     "name": "stderr",
     "output_type": "stream",
     "text": [
      "/home/loic/anaconda3/lib/python3.8/site-packages/sklearn/neural_network/_multilayer_perceptron.py:582: ConvergenceWarning: Stochastic Optimizer: Maximum iterations (200) reached and the optimization hasn't converged yet.\n",
      "  warnings.warn(\n"
     ]
    },
    {
     "name": "stdout",
     "output_type": "stream",
     "text": [
      "280\n",
      "Successfully loaded from file!\n",
      "Local training set size : 375000.\n",
      "Local testing set size : 125000.\n",
      "\n",
      "Training sample shape: (280,)\n",
      "Testing sample shape: (280,)\n"
     ]
    },
    {
     "name": "stderr",
     "output_type": "stream",
     "text": [
      "/home/loic/anaconda3/lib/python3.8/site-packages/sklearn/neural_network/_multilayer_perceptron.py:582: ConvergenceWarning: Stochastic Optimizer: Maximum iterations (200) reached and the optimization hasn't converged yet.\n",
      "  warnings.warn(\n"
     ]
    },
    {
     "name": "stdout",
     "output_type": "stream",
     "text": [
      "300\n",
      "Successfully loaded from file!\n",
      "Local training set size : 375000.\n",
      "Local testing set size : 125000.\n",
      "\n",
      "Training sample shape: (300,)\n",
      "Testing sample shape: (300,)\n"
     ]
    },
    {
     "name": "stderr",
     "output_type": "stream",
     "text": [
      "/home/loic/anaconda3/lib/python3.8/site-packages/sklearn/neural_network/_multilayer_perceptron.py:582: ConvergenceWarning: Stochastic Optimizer: Maximum iterations (200) reached and the optimization hasn't converged yet.\n",
      "  warnings.warn(\n"
     ]
    },
    {
     "name": "stdout",
     "output_type": "stream",
     "text": [
      "340\n",
      "Successfully loaded from file!\n",
      "Local training set size : 375000.\n",
      "Local testing set size : 125000.\n",
      "\n",
      "Training sample shape: (340,)\n",
      "Testing sample shape: (340,)\n"
     ]
    },
    {
     "name": "stderr",
     "output_type": "stream",
     "text": [
      "/home/loic/anaconda3/lib/python3.8/site-packages/sklearn/neural_network/_multilayer_perceptron.py:582: ConvergenceWarning: Stochastic Optimizer: Maximum iterations (200) reached and the optimization hasn't converged yet.\n",
      "  warnings.warn(\n"
     ]
    },
    {
     "name": "stdout",
     "output_type": "stream",
     "text": [
      "360\n",
      "Successfully loaded from file!\n",
      "Local training set size : 375000.\n",
      "Local testing set size : 125000.\n",
      "\n",
      "Training sample shape: (360,)\n",
      "Testing sample shape: (360,)\n"
     ]
    },
    {
     "name": "stderr",
     "output_type": "stream",
     "text": [
      "/home/loic/anaconda3/lib/python3.8/site-packages/sklearn/neural_network/_multilayer_perceptron.py:582: ConvergenceWarning: Stochastic Optimizer: Maximum iterations (200) reached and the optimization hasn't converged yet.\n",
      "  warnings.warn(\n"
     ]
    },
    {
     "name": "stdout",
     "output_type": "stream",
     "text": [
      "400\n",
      "Successfully loaded from file!\n",
      "Local training set size : 375000.\n",
      "Local testing set size : 125000.\n",
      "\n",
      "Training sample shape: (400,)\n",
      "Testing sample shape: (400,)\n"
     ]
    },
    {
     "name": "stderr",
     "output_type": "stream",
     "text": [
      "/home/loic/anaconda3/lib/python3.8/site-packages/sklearn/neural_network/_multilayer_perceptron.py:582: ConvergenceWarning: Stochastic Optimizer: Maximum iterations (200) reached and the optimization hasn't converged yet.\n",
      "  warnings.warn(\n"
     ]
    },
    {
     "name": "stdout",
     "output_type": "stream",
     "text": [
      "420\n",
      "Successfully loaded from file!\n",
      "Local training set size : 375000.\n",
      "Local testing set size : 125000.\n",
      "\n",
      "Training sample shape: (420,)\n",
      "Testing sample shape: (420,)\n"
     ]
    },
    {
     "name": "stderr",
     "output_type": "stream",
     "text": [
      "/home/loic/anaconda3/lib/python3.8/site-packages/sklearn/neural_network/_multilayer_perceptron.py:582: ConvergenceWarning: Stochastic Optimizer: Maximum iterations (200) reached and the optimization hasn't converged yet.\n",
      "  warnings.warn(\n"
     ]
    },
    {
     "name": "stdout",
     "output_type": "stream",
     "text": [
      "500\n",
      "Successfully loaded from file!\n",
      "Local training set size : 375000.\n",
      "Local testing set size : 125000.\n",
      "\n",
      "Training sample shape: (500,)\n",
      "Testing sample shape: (500,)\n"
     ]
    },
    {
     "name": "stderr",
     "output_type": "stream",
     "text": [
      "/home/loic/anaconda3/lib/python3.8/site-packages/sklearn/neural_network/_multilayer_perceptron.py:582: ConvergenceWarning: Stochastic Optimizer: Maximum iterations (200) reached and the optimization hasn't converged yet.\n",
      "  warnings.warn(\n"
     ]
    }
   ],
   "source": [
    "train_NN_in_row()"
   ]
  },
  {
   "cell_type": "code",
   "execution_count": 28,
   "metadata": {},
   "outputs": [
    {
     "name": "stdout",
     "output_type": "stream",
     "text": [
      "\n",
      "20 dimensions\n",
      "\n",
      "Accuracy : 0.58492\n",
      "Label      | precision  | recall     | f1-score  \n",
      "pos        |   0.577169 |   0.641486 |   0.607630\n",
      "neg        |   0.594660 |   0.528122 |   0.559419\n",
      "\n",
      "50 dimensions\n",
      "\n",
      "Accuracy : 0.608328\n",
      "Label      | precision  | recall     | f1-score  \n",
      "pos        |   0.602418 |   0.635075 |   0.618316\n",
      "neg        |   0.614902 |   0.581630 |   0.597803\n",
      "\n",
      "100 dimensions\n",
      "\n",
      "Accuracy : 0.630096\n",
      "Label      | precision  | recall     | f1-score  \n",
      "pos        |   0.618442 |   0.674835 |   0.645409\n",
      "neg        |   0.644018 |   0.585563 |   0.613401\n",
      "\n",
      "140 dimensions\n",
      "\n",
      "Accuracy : 0.645952\n",
      "Label      | precision  | recall     | f1-score  \n",
      "pos        |   0.640888 |   0.662401 |   0.651467\n",
      "neg        |   0.651357 |   0.629534 |   0.640259\n",
      "\n",
      "180 dimensions\n",
      "\n",
      "Accuracy : 0.648736\n",
      "Label      | precision  | recall     | f1-score  \n",
      "pos        |   0.638017 |   0.688657 |   0.662371\n",
      "neg        |   0.661321 |   0.608761 |   0.633954\n",
      "\n",
      "190 dimensions\n",
      "\n",
      "Accuracy : 0.656216\n",
      "Label      | precision  | recall     | f1-score  \n",
      "pos        |   0.650887 |   0.680913 |   0.665562\n",
      "neg        |   0.662120 |   0.631282 |   0.646333\n",
      "\n",
      "200 dimensions\n",
      "\n",
      "Accuracy : 0.659496\n",
      "Label      | precision  | recall     | f1-score  \n",
      "pos        |   0.652181 |   0.679645 |   0.665630\n",
      "neg        |   0.667411 |   0.639454 |   0.653133\n",
      "\n",
      "220 dimensions\n",
      "\n",
      "Accuracy : 0.659304\n",
      "Label      | precision  | recall     | f1-score  \n",
      "pos        |   0.642577 |   0.717400 |   0.677930\n",
      "neg        |   0.680423 |   0.601251 |   0.638391\n",
      "\n",
      "250 dimensions\n",
      "\n",
      "Accuracy : 0.663288\n",
      "Label      | precision  | recall     | f1-score  \n",
      "pos        |   0.646881 |   0.725307 |   0.683853\n",
      "neg        |   0.684422 |   0.600749 |   0.639862\n",
      "\n",
      "280 dimensions\n",
      "\n",
      "Accuracy : 0.6636\n",
      "Label      | precision  | recall     | f1-score  \n",
      "pos        |   0.668839 |   0.651785 |   0.660202\n",
      "neg        |   0.658595 |   0.675481 |   0.666931\n",
      "\n",
      "300 dimensions\n",
      "\n",
      "Accuracy : 0.668912\n",
      "Label      | precision  | recall     | f1-score  \n",
      "pos        |   0.659759 |   0.696748 |   0.677749\n",
      "neg        |   0.679139 |   0.641108 |   0.659576\n",
      "\n",
      "340 dimensions\n",
      "\n",
      "Accuracy : 0.669768\n",
      "Label      | precision  | recall     | f1-score  \n",
      "pos        |   0.656940 |   0.705686 |   0.680441\n",
      "neg        |   0.684538 |   0.634106 |   0.658357\n",
      "\n",
      "360 dimensions\n",
      "\n",
      "Accuracy : 0.674192\n",
      "Label      | precision  | recall     | f1-score  \n",
      "pos        |   0.662948 |   0.705356 |   0.683495\n",
      "neg        |   0.686904 |   0.643184 |   0.664326\n",
      "\n",
      "400 dimensions\n",
      "\n",
      "Accuracy : 0.67652\n",
      "Label      | precision  | recall     | f1-score  \n",
      "pos        |   0.674820 |   0.685207 |   0.679974\n",
      "neg        |   0.678284 |   0.667779 |   0.672991\n",
      "\n",
      "420 dimensions\n",
      "\n",
      "Accuracy : 0.677712\n",
      "Label      | precision  | recall     | f1-score  \n",
      "pos        |   0.676893 |   0.679277 |   0.678083\n",
      "neg        |   0.678536 |   0.676149 |   0.677340\n",
      "\n",
      "500 dimensions\n",
      "\n",
      "Accuracy : 0.679984\n",
      "Label      | precision  | recall     | f1-score  \n",
      "pos        |   0.661741 |   0.731418 |   0.694837\n",
      "neg        |   0.702332 |   0.628937 |   0.663611\n"
     ]
    },
    {
     "data": {
      "image/png": "[encoded data removed]",
      "text/plain": [
       "<Figure size 432x288 with 1 Axes>"
      ]
     },
     "metadata": {
      "needs_background": "light"
     },
     "output_type": "display_data"
    }
   ],
   "source": [
    "D = [20,50,100,140,180,190,200,220,250,280,300,340,360,400,420,500]\n",
    "\n",
    "plot_dim(D)"
   ]
  },
  {
   "cell_type": "code",
   "execution_count": null,
   "metadata": {},
   "outputs": [],
   "source": []
  }
 ],
 "metadata": {
  "kernelspec": {
   "display_name": "Python 3",
   "language": "python",
   "name": "python3"
  },
  "language_info": {
   "codemirror_mode": {
    "name": "ipython",
    "version": 3
   },
   "file_extension": ".py",
   "mimetype": "text/x-python",
   "name": "python",
   "nbconvert_exporter": "python",
   "pygments_lexer": "ipython3",
   "version": "3.8.3"
  }
 },
 "nbformat": 4,
 "nbformat_minor": 4
}
