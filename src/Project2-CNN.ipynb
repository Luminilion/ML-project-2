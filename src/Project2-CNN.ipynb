{
 "cells": [
  {
   "cell_type": "markdown",
   "metadata": {},
   "source": [
    "# Machine Learning Project 2"
   ]
  },
  {
   "cell_type": "code",
   "execution_count": 1,
   "metadata": {},
   "outputs": [],
   "source": [
    "# Imports\n",
    "import pandas as pd\n",
    "import numpy as np"
   ]
  },
  {
   "cell_type": "markdown",
   "metadata": {},
   "source": [
    "---\n",
    "## Generic Functions\n",
    "Here we define all the functions to be used."
   ]
  },
  {
   "cell_type": "markdown",
   "metadata": {},
   "source": [
    "### 1. Data Loading"
   ]
  },
  {
   "cell_type": "code",
   "execution_count": 2,
   "metadata": {},
   "outputs": [],
   "source": [
    "def load_data(data_path, pos_file, neg_file, size=1_250_000): \n",
    "\n",
    "    # positive\n",
    "    pos = pd.read_table(data_path+pos_file, sep='.\\n', names=['tweet'], engine='python')\n",
    "    pos['label']=1\n",
    "    print(f\"Loaded POS data, correctly interpreted 1-tweet-per-line fashion : {pos.shape[0]==size}\")\n",
    "\n",
    "    # negative\n",
    "    neg = pd.read_table(data_path+neg_file, sep='.\\n', names=['tweet'], engine='python')\n",
    "    neg['label']=-1\n",
    "    print(f\"Loaded NEG data, correctly interpreted 1-tweet-per-line fashion : {neg.shape[0]==size}\")\n",
    "\n",
    "    # Data sizes\n",
    "    print(f\"Number of tweets : (POS) {pos.shape[0]} (NEG) {neg.shape[0]}\\n\")\n",
    "\n",
    "    # Merge datasets to get a complete training set\n",
    "    tweets = pos.append(neg)\n",
    "    return tweets"
   ]
  },
  {
   "cell_type": "code",
   "execution_count": 3,
   "metadata": {},
   "outputs": [],
   "source": [
    "from glove_helper import concatenate\n",
    "\n",
    "def load_embeddings_and_vocab(embeddings_loc, embeddings_path, vocab_loc, divided=False) :\n",
    "    \n",
    "    ## Load word embeddings and vocabulary to compute word vectors of tweets -----------------------------------\n",
    "    \n",
    "    # Load word embeddings\n",
    "    embeddings=None\n",
    "    if divided : \n",
    "        embeddings = concatenate(embeddings_files, embeddings_path)\n",
    "    else :\n",
    "        embeddings = np.load(embeddings_path+embeddings_loc)\n",
    "    print(f'Loaded word embeddings in structure of type {type(embeddings)}.')\n",
    "\n",
    "    # Loading vocab\n",
    "    words = pd.read_table(vocab_loc, sep='.\\n', names=['word'], engine='python', squeeze=True, na_values=np.nan)\n",
    "    print(f'Loaded word vocabulary in structure of type {type(words)}.')\n",
    "\n",
    "    # Check that the vocabulary encompasses all embedded words\n",
    "    print(f'\\nBoth the embeddings and the vocabulary are same length :  {len(embeddings)==words.shape[0]}')\n",
    "    print(f\"Embeddings: {embeddings.shape}, vocab: {words.shape}\")\n",
    "\n",
    "    ## Clean the data --------------------------------------------------------------------------------------------\n",
    "\n",
    "    # Drop NaN values in vocab\n",
    "    nas = words.isna()\n",
    "    words.dropna(inplace=True)\n",
    "    # Drop NaN words in embeddings\n",
    "    embeddings = np.delete(embeddings, nas[nas].index.values, axis=0)\n",
    "    \n",
    "    print(f'NaN values were dropped in both tables: {len(embeddings)==words.shape[0]}')\n",
    "    print(f\"Embeddings: {embeddings.shape}, vocab: {words.shape}\")\n",
    "\n",
    "    ## Process data ---------------------------------------------------------------------------------------------\n",
    "    \n",
    "    # Index by words for faster index-for-word search\n",
    "    words = pd.DataFrame(data=words.index, index=words.values)\n",
    "    embeddings = pd.DataFrame(embeddings, index=words.index)\n",
    "    \n",
    "    return embeddings, words"
   ]
  },
  {
   "cell_type": "markdown",
   "metadata": {},
   "source": [
    "### 2. Data Resampling"
   ]
  },
  {
   "cell_type": "code",
   "execution_count": 4,
   "metadata": {},
   "outputs": [],
   "source": [
    "from sklearn.utils import resample\n",
    "\n",
    "def resample_data(data, size, label=1, seed=None) :\n",
    "    # Get pos and neg datasets\n",
    "    pos, neg = data.loc[data['label']==label], data.loc[data['label']!=label]\n",
    "    \n",
    "    # Get samples balanced by classes\n",
    "    n = int(size/2)\n",
    "    pos_ = resample(pos, n_samples=n, replace=False, random_state=seed)\n",
    "    neg_ = resample(neg, n_samples=n, replace=False, random_state=seed)\n",
    "    \n",
    "    # reform dataset\n",
    "    data_ = pos_.append(neg_)\n",
    "\n",
    "    return data_"
   ]
  },
  {
   "cell_type": "markdown",
   "metadata": {},
   "source": [
    "### 3. Data Embedding"
   ]
  },
  {
   "cell_type": "code",
   "execution_count": 5,
   "metadata": {},
   "outputs": [],
   "source": [
    "def word_vector(tweet, embeddings, embeddings_dim, vocab, agg_func=None):\n",
    "    \"\"\"\n",
    "    Creates the feature vector corresponding to the tweet.\n",
    "    To do so, computes the mean of the word embeddings corresponding to the vocabulary words in the tweet.\n",
    "    \n",
    "    Parameters \n",
    "    ----------\n",
    "    tweet : str\n",
    "        Input tweet from which the word vector is created.\n",
    "    \"\"\"\n",
    "    split_by_words = tweet.split()\n",
    "    embed_list = []\n",
    "    \n",
    "    # Get words in tweet that are in vocab\n",
    "    # Get embeddings for these words\n",
    "    for w in split_by_words:\n",
    "        if w in vocab.index :\n",
    "            embed_list.append(  embeddings.loc[w].values  )\n",
    "            \n",
    "    if agg_func is None :\n",
    "        agg_func = lambda x : np.mean(x, axis=0)\n",
    "    \n",
    "    # If no vocab word create an empty vector for the tweet\n",
    "    if not embed_list :\n",
    "        embed_list = np.zeros((2, embeddings_dim))\n",
    "        \n",
    "    result = agg_func(embed_list)\n",
    "    \n",
    "    # Be sure to output a list to store in dataframe\n",
    "    return np.array(result).tolist()"
   ]
  },
  {
   "cell_type": "code",
   "execution_count": 6,
   "metadata": {},
   "outputs": [],
   "source": [
    "from glove_helper import concatenate\n",
    "\n",
    "def load_word_vectors(file_path, file_loc, divided=False): \n",
    "    # Load pre-computed word vectors file\n",
    "    precomputed = None\n",
    "    if divided :\n",
    "        print('Loading from divided dataset...')\n",
    "        precomputed = concatenate(word_vectors_files, file_path)\n",
    "    else : \n",
    "        precomputed = np.load(file_path+file_loc, allow_pickle=True)\n",
    "        \n",
    "    precomputed = pd.DataFrame(precomputed, columns=['index', 'label', 'mean_embed'])\n",
    "    print('Successfully loaded from file!')\n",
    "    \n",
    "    return precomputed"
   ]
  },
  {
   "cell_type": "code",
   "execution_count": 7,
   "metadata": {},
   "outputs": [],
   "source": [
    "from project2_helper import isAdmin, parallelize\n",
    "\n",
    "def compute_word_vectors(data, embeddings, embeddings_dim, vocab, agg_func=None) :\n",
    "    data = data.copy()\n",
    "    \n",
    "    # compute function to run on tweets\n",
    "    func = lambda t : word_vector(t, embeddings, embeddings_dim, vocab, agg_func=agg_func)\n",
    "    \n",
    "    if isAdmin():\n",
    "        print('Process is run as admin. Running parallelized computation...')\n",
    "        data['mean_embed']= parallelize(data['tweet'], func)\n",
    "    else : \n",
    "        print('Process is not run as admin. Cannot run parallelized setting, running as sequential...')\n",
    "        data['mean_embed']= data['tweet'].map(func)\n",
    "\n",
    "    return data"
   ]
  },
  {
   "cell_type": "code",
   "execution_count": 8,
   "metadata": {},
   "outputs": [],
   "source": [
    "def save_word_vectors(data, file_path, ending=None):\n",
    "    \n",
    "    # Get word vectors information\n",
    "    word_vectors = data[['label', 'mean_embed']].reset_index()\n",
    "    dim = len(word_vectors.loc[0, 'mean_embed'])\n",
    "    \n",
    "    # Name file to format : path/word_vectors_xxnsamplesxx_xxembeddimxx_ending_npy\n",
    "    name = file_path + 'word_vectors_' + str(data.shape[0]) + '_' + str(dim)\n",
    "    # Add ending if requested\n",
    "    if ending is not None :\n",
    "        name = name+'_'+str(ending)\n",
    "    \n",
    "    # save data\n",
    "    np.save(name, word_vectors)\n",
    "    \n",
    "    return True"
   ]
  },
  {
   "cell_type": "markdown",
   "metadata": {},
   "source": [
    "### 4. Data Pre-processing"
   ]
  },
  {
   "cell_type": "code",
   "execution_count": 9,
   "metadata": {},
   "outputs": [],
   "source": [
    "from sklearn.model_selection import train_test_split\n",
    "\n",
    "def split_dataset(data, test_size=0.25, seed=None) : \n",
    "\n",
    "    # Split into training and testing data\n",
    "    train, test = train_test_split(data, test_size=test_size, random_state=seed)\n",
    "    print(f\"Local training set size : {train.shape[0]}.\")\n",
    "    print(f\"Local testing set size : {test.shape[0]}.\\n\")\n",
    "     \n",
    "    # Create features and labels datasets\n",
    "    xtrain, ytrain = np.array(train.mean_embed.tolist()), np.array(train.label.to_list())\n",
    "    xtest, ytest = np.array(test.mean_embed.tolist()), np.array(test.label.tolist())\n",
    "\n",
    "    print(f'Training sample shape: {xtrain.shape[1:]}')\n",
    "    print(f'Testing sample shape: {xtest.shape[1:]}')\n",
    "    \n",
    "    return xtrain, ytrain, xtest, ytest"
   ]
  },
  {
   "cell_type": "code",
   "execution_count": 10,
   "metadata": {},
   "outputs": [],
   "source": [
    "from sklearn.preprocessing import StandardScaler, PolynomialFeatures\n",
    "\n",
    "def preprocess(X) :\n",
    "    x=X.copy()\n",
    "    \n",
    "    ## Standardize data\n",
    "    # If features are list of features of different sizes, standardization has to be made list-wise\n",
    "    if len(np.array(x).shape) == 1 : \n",
    "        x = np.array([ StandardScaler().fit_transform(a) for a in x ])\n",
    "    else :\n",
    "        x = StandardScaler().fit_transform(x)\n",
    "    \n",
    "    ## TODO Polynomial features and interactions\n",
    "    \n",
    "    ## other data preprocessing\n",
    "    \n",
    "    return x"
   ]
  },
  {
   "cell_type": "markdown",
   "metadata": {},
   "source": [
    "### 5. Generate submission"
   ]
  },
  {
   "cell_type": "code",
   "execution_count": 11,
   "metadata": {},
   "outputs": [],
   "source": [
    "# To format the testing data\n",
    "def extract_tweet(tweet):\n",
    "    return tweet.split(\",\", 1)[1]"
   ]
  },
  {
   "cell_type": "code",
   "execution_count": 12,
   "metadata": {},
   "outputs": [],
   "source": [
    "def get_test_data(data_path, test_file='test_data.txt') :\n",
    "    # Load the testing data\n",
    "    test = pd.read_fwf(data_path+test_file, sep=\"\\n\", header=None)\n",
    "    test = test.rename(columns={0:'tweet', 1:'na1', 2:'na2'})\n",
    "\n",
    "    # Reformating it for submission\n",
    "    test.index = test.index+1 # Format asked by AI Crowd\n",
    "    test = test['tweet'].map(extract_tweet).to_frame()\n",
    "\n",
    "    return test"
   ]
  },
  {
   "cell_type": "code",
   "execution_count": 13,
   "metadata": {},
   "outputs": [],
   "source": [
    "# Creating submission file\n",
    "import csv\n",
    "def create_csv_submission(ids, y_pred, name):\n",
    "    \"\"\"\n",
    "    Creates an output file in csv format for submission to kaggle\n",
    "    Arguments: ids (event ids associated with each prediction)\n",
    "               y_pred (predicted class labels)\n",
    "               name (string name of .csv output file to be created)\n",
    "    \"\"\"\n",
    "    with open(name, 'w', newline='') as csvfile:\n",
    "        fieldnames = ['Id', 'Prediction']\n",
    "        writer = csv.DictWriter(csvfile, delimiter=\",\", fieldnames=fieldnames)\n",
    "        writer.writeheader()\n",
    "        for r1, r2 in zip(ids, y_pred):\n",
    "            writer.writerow({'Id':int(r1),'Prediction':int(r2)})"
   ]
  },
  {
   "cell_type": "code",
   "execution_count": 14,
   "metadata": {},
   "outputs": [],
   "source": [
    "# Base parameters\n",
    "\n",
    "### Loading\n",
    "data_path = '../data/'\n",
    "pos_data = 'train_pos_full.txt'\n",
    "neg_data = 'train_neg_full.txt'\n",
    "\n",
    "precomputed_path = '../precomputed_data/'\n",
    "embeddings_file = 'embeddings_full_10epoch_100dim.npy'\n",
    "vocab_loc = '../data/vocab_cut.txt'\n",
    "\n",
    "embeddings_dim_info = 100\n",
    "data_size = 100_000\n",
    "\n",
    "word_vectors_files = ['word_vectors_100000_100_part1.npy',\n",
    "                     'word_vectors_100000_100_part2.npy']\n",
    "divided_word_vectors = True"
   ]
  },
  {
   "cell_type": "markdown",
   "metadata": {},
   "source": [
    "---\n",
    "## Data pre-training"
   ]
  },
  {
   "cell_type": "code",
   "execution_count": 15,
   "metadata": {},
   "outputs": [
    {
     "name": "stdout",
     "output_type": "stream",
     "text": [
      "Loaded POS data, correctly interpreted 1-tweet-per-line fashion : True\n",
      "Loaded NEG data, correctly interpreted 1-tweet-per-line fashion : True\n",
      "Number of tweets : (POS) 1250000 (NEG) 1250000\n",
      "\n",
      "Loaded word embeddings in structure of type <class 'numpy.ndarray'>.\n",
      "Loaded word vocabulary in structure of type <class 'pandas.core.series.Series'>.\n",
      "\n",
      "Both the embeddings and the vocabulary are same length :  True\n",
      "Embeddings: (101298, 100), vocab: (101298,)\n",
      "NaN values were dropped in both tables: True\n",
      "Embeddings: (101296, 100), vocab: (101296,)\n"
     ]
    }
   ],
   "source": [
    "# Load data\n",
    "tweets = load_data(data_path, pos_data, neg_data)\n",
    "embeddings, vocab = load_embeddings_and_vocab(embeddings_file, precomputed_path, vocab_loc)\n",
    "\n",
    "# Resample data\n",
    "tweets_ = resample_data(tweets, data_size, seed=1)"
   ]
  },
  {
   "cell_type": "code",
   "execution_count": 17,
   "metadata": {},
   "outputs": [
    {
     "name": "stdout",
     "output_type": "stream",
     "text": [
      "Loading from divided dataset...\n",
      "Successfully loaded from file!\n"
     ]
    },
    {
     "data": {
      "text/plain": [
       "True"
      ]
     },
     "execution_count": 17,
     "metadata": {},
     "output_type": "execute_result"
    }
   ],
   "source": [
    "# Load word vectors\n",
    "tweets_ = load_word_vectors(\n",
    "    precomputed_path, \n",
    "    word_vectors_files, \n",
    "    divided=divided_word_vectors)\n",
    "\n",
    "# Useless here (for demonstration purposes in case of computation and not loading)\n",
    "save_word_vectors(tweets_, precomputed_path)"
   ]
  },
  {
   "cell_type": "code",
   "execution_count": 18,
   "metadata": {},
   "outputs": [
    {
     "name": "stdout",
     "output_type": "stream",
     "text": [
      "Local training set size : 75000.\n",
      "Local testing set size : 25000.\n",
      "\n",
      "Training sample shape: (100,)\n",
      "Testing sample shape: (100,)\n"
     ]
    }
   ],
   "source": [
    "# Train-test split data\n",
    "xtrain_, ytrain_, xtest_, ytest_ = split_dataset(tweets_)\n",
    "\n",
    "# Pre-process training set\n",
    "xtrain_ = preprocess(xtrain_)\n",
    "xtest_ = preprocess(xtest_)"
   ]
  },
  {
   "cell_type": "code",
   "execution_count": 19,
   "metadata": {},
   "outputs": [],
   "source": [
    "# Importing functions to estimate model efficiency\n",
    "from sklearn.metrics import accuracy_score, classification_report, precision_recall_fscore_support"
   ]
  },
  {
   "cell_type": "markdown",
   "metadata": {},
   "source": [
    "### Models Training\n",
    "* Linear Regression\n",
    "* Logistic Regression\n",
    "* SVM\n",
    "* Neural Networks"
   ]
  },
  {
   "cell_type": "code",
   "execution_count": 21,
   "metadata": {},
   "outputs": [],
   "source": [
    "from sklearn.linear_model import LinearRegression, LogisticRegression, LogisticRegressionCV\n",
    "from sklearn.svm import LinearSVC\n",
    "from sklearn.neural_network import MLPClassifier\n",
    "\n",
    "classifiers = dict()"
   ]
  },
  {
   "cell_type": "code",
   "execution_count": 22,
   "metadata": {},
   "outputs": [
    {
     "name": "stdout",
     "output_type": "stream",
     "text": [
      "R2 score for Neural Network classifier is 0.60532.\n",
      "Wall time: 3min 19s\n"
     ]
    },
    {
     "name": "stderr",
     "output_type": "stream",
     "text": [
      "C:\\Users\\Nico\\.conda\\envs\\ada\\lib\\site-packages\\sklearn\\neural_network\\_multilayer_perceptron.py:582: ConvergenceWarning: Stochastic Optimizer: Maximum iterations (200) reached and the optimization hasn't converged yet.\n",
      "  warnings.warn(\n"
     ]
    }
   ],
   "source": [
    "%%time\n",
    "#### BASELINE : Neural Networks\n",
    "\n",
    "# Neural Network\n",
    "name = 'Neural Network'\n",
    "\n",
    "nn_classifier = MLPClassifier().fit(xtrain_,ytrain_)\n",
    "score = nn_classifier.score(xtest_,ytest_)\n",
    "\n",
    "classifiers[name] = (nn_classifier, score)\n",
    "\n",
    "print(f\"R2 score for {name} classifier is {score}.\")"
   ]
  },
  {
   "cell_type": "code",
   "execution_count": 23,
   "metadata": {},
   "outputs": [
    {
     "name": "stdout",
     "output_type": "stream",
     "text": [
      "              precision    recall  f1-score   support\n",
      "\n",
      "         pos    0.59925   0.66659   0.63113     12663\n",
      "         neg    0.61316   0.54243   0.57563     12337\n",
      "\n",
      "    accuracy                        0.60532     25000\n",
      "   macro avg    0.60620   0.60451   0.60338     25000\n",
      "weighted avg    0.60611   0.60532   0.60374     25000\n",
      "\n"
     ]
    }
   ],
   "source": [
    "# Compute predictions\n",
    "predtest_ = nn_classifier.predict(xtest_)\n",
    "\n",
    "metrics = classification_report(ytest_, predtest_, labels=[1,-1], target_names=['pos', 'neg'], digits=5, output_dict=True)\n",
    "report = classification_report(ytest_, predtest_, labels=[1,-1], target_names=['pos', 'neg'], digits=5)\n",
    "print(report)"
   ]
  },
  {
   "cell_type": "code",
   "execution_count": 195,
   "metadata": {},
   "outputs": [],
   "source": [
    "# Save baseline results\n",
    "path = '../results/'\n",
    "name = path+'metrics_'+str(local_t_size)+'_'+str(embeddings_dim_info)+'_baseline'\n",
    "np.save(name, metrics)"
   ]
  },
  {
   "cell_type": "markdown",
   "metadata": {},
   "source": [
    "---\n",
    "### Custom models\n",
    "Let us implement a custom model following the paper $\\text{Text Classification with Deep Neural Networks}$ by *Maaz Amajd et al.* from Microsoft."
   ]
  },
  {
   "cell_type": "code",
   "execution_count": 16,
   "metadata": {},
   "outputs": [],
   "source": [
    "# Base parameters\n",
    "\n",
    "### Loading\n",
    "data_path = '../data/'\n",
    "pos_data = 'train_pos_full.txt'\n",
    "neg_data = 'train_neg_full.txt'\n",
    "\n",
    "precomputed_path = '../precomputed_data/'\n",
    "embeddings_file = 'embeddings_full_10epoch_100dim.npy'\n",
    "vocab_loc = '../data/vocab_cut.txt'\n",
    "\n",
    "embeddings_dim_info = 100\n",
    "data_size = 100_000\n",
    "\n",
    "word_vectors_file = 'word_vectors_100000_12_cnn.npy'\n",
    "divided_word_vectors = True\n",
    "seed = 1"
   ]
  },
  {
   "cell_type": "markdown",
   "metadata": {},
   "source": [
    "#### Recompute word vectors datasets\n",
    "The convolutionnal Neural Network uses a matrix as input format. Here we use a matrix of words vectors representing the tweet."
   ]
  },
  {
   "cell_type": "code",
   "execution_count": 17,
   "metadata": {},
   "outputs": [
    {
     "name": "stdout",
     "output_type": "stream",
     "text": [
      "Successfully loaded from file!\n",
      "Wall time: 49.1 s\n"
     ]
    }
   ],
   "source": [
    "%%time\n",
    "# Resample tweets for cnn\n",
    "tweets_cnn = resample_data(tweets, data_size, seed=seed)\n",
    "\n",
    "# Compute matrices of word embeddings for tweets\n",
    "#tweets_cnn = compute_word_vectors(tweets_cnn, embeddings, embeddings_dim_info, vocab, agg_func=(lambda _ : _))\n",
    "tweets_cnn = load_word_vectors(precomputed_path, word_vectors_file)"
   ]
  },
  {
   "cell_type": "code",
   "execution_count": 21,
   "metadata": {},
   "outputs": [
    {
     "data": {
      "text/plain": [
       "True"
      ]
     },
     "execution_count": 21,
     "metadata": {},
     "output_type": "execute_result"
    }
   ],
   "source": [
    "# Save computed word embeddings matrices \n",
    "save_word_vectors(tweets_cnn, precomputed_path, ending='cnn')"
   ]
  },
  {
   "cell_type": "code",
   "execution_count": 18,
   "metadata": {
    "collapsed": true,
    "jupyter": {
     "outputs_hidden": true
    }
   },
   "outputs": [
    {
     "name": "stdout",
     "output_type": "stream",
     "text": [
      "Local training set size : 75000.\n",
      "Local testing set size : 25000.\n",
      "\n"
     ]
    },
    {
     "name": "stderr",
     "output_type": "stream",
     "text": [
      "<ipython-input-9-288999fe21b1>:11: VisibleDeprecationWarning: Creating an ndarray from ragged nested sequences (which is a list-or-tuple of lists-or-tuples-or ndarrays with different lengths or shapes) is deprecated. If you meant to do this, you must specify 'dtype=object' when creating the ndarray\n",
      "  xtrain, ytrain = np.array(train.mean_embed.tolist()), np.array(train.label.to_list())\n"
     ]
    },
    {
     "name": "stdout",
     "output_type": "stream",
     "text": [
      "Training sample shape: ()\n",
      "Testing sample shape: ()\n"
     ]
    },
    {
     "name": "stderr",
     "output_type": "stream",
     "text": [
      "<ipython-input-9-288999fe21b1>:12: VisibleDeprecationWarning: Creating an ndarray from ragged nested sequences (which is a list-or-tuple of lists-or-tuples-or ndarrays with different lengths or shapes) is deprecated. If you meant to do this, you must specify 'dtype=object' when creating the ndarray\n",
      "  xtest, ytest = np.array(test.mean_embed.tolist()), np.array(test.label.tolist())\n"
     ]
    }
   ],
   "source": [
    "# Train test split data\n",
    "xtrain_cnn, ytrain_cnn, xtest_cnn, ytest_cnn = split_dataset(tweets_cnn, seed=seed)"
   ]
  },
  {
   "cell_type": "code",
   "execution_count": 19,
   "metadata": {},
   "outputs": [
    {
     "name": "stderr",
     "output_type": "stream",
     "text": [
      "<ipython-input-10-415d7496b1fe>:9: VisibleDeprecationWarning: Creating an ndarray from ragged nested sequences (which is a list-or-tuple of lists-or-tuples-or ndarrays with different lengths or shapes) is deprecated. If you meant to do this, you must specify 'dtype=object' when creating the ndarray\n",
      "  x = np.array([ StandardScaler().fit_transform(a) for a in x ])\n",
      "<ipython-input-10-415d7496b1fe>:9: VisibleDeprecationWarning: Creating an ndarray from ragged nested sequences (which is a list-or-tuple of lists-or-tuples-or ndarrays with different lengths or shapes) is deprecated. If you meant to do this, you must specify 'dtype=object' when creating the ndarray\n",
      "  x = np.array([ StandardScaler().fit_transform(a) for a in x ])\n"
     ]
    }
   ],
   "source": [
    "# Preprocess datasets\n",
    "xtrain_cnn = preprocess(xtrain_cnn)\n",
    "xtest_cnn = preprocess(xtest_cnn)"
   ]
  },
  {
   "cell_type": "code",
   "execution_count": 36,
   "metadata": {},
   "outputs": [],
   "source": [
    "def reshape_tweet_matrices(tweets, embed_dim, words_per_tweet) : \n",
    "    # may have to change shape to (w, e, 1)\n",
    "    result = [np.resize(t, (words_per_tweet, embed_dim)).tolist() for t in tweets]\n",
    "    return result"
   ]
  },
  {
   "cell_type": "code",
   "execution_count": 33,
   "metadata": {},
   "outputs": [],
   "source": [
    "xtrain_cnn = reshape_tweet_matrices(xtrain_cnn, embeddings_dim_info, 15)"
   ]
  },
  {
   "cell_type": "code",
   "execution_count": 38,
   "metadata": {},
   "outputs": [],
   "source": [
    "xtrain_cnn = np.array(xtrain_cnn)"
   ]
  },
  {
   "cell_type": "code",
   "execution_count": 101,
   "metadata": {},
   "outputs": [],
   "source": [
    "import keras\n",
    "from keras.models import Sequential,Input,Model\n",
    "from keras.layers import Dense, Dropout, Flatten\n",
    "from keras.layers import Conv2D, MaxPooling2D\n",
    "from keras.layers.normalization import BatchNormalization\n",
    "from keras.layers.advanced_activations import LeakyReLU\n",
    "\n",
    "# Define base parameters for the CNN\n",
    "\n",
    "batch_size = 64 ## TODO tune batch size (depends on mem)\n",
    "epochs = 20\n",
    "num_classes = 2\n",
    "n_filters = 100\n",
    "kernel_size = (3, 3)\n",
    "dense_units = 250"
   ]
  },
  {
   "cell_type": "code",
   "execution_count": 104,
   "metadata": {},
   "outputs": [
    {
     "name": "stdout",
     "output_type": "stream",
     "text": [
      "Model: \"sequential_8\"\n",
      "_________________________________________________________________\n",
      "Layer (type)                 Output Shape              Param #   \n",
      "=================================================================\n",
      "conv2d_8 (Conv2D)            (None, 15, 100, 100)      1000      \n",
      "_________________________________________________________________\n",
      "leaky_re_lu (LeakyReLU)      (None, 15, 100, 100)      0         \n",
      "_________________________________________________________________\n",
      "max_pooling2d_7 (MaxPooling2 (None, 8, 50, 100)        0         \n",
      "_________________________________________________________________\n",
      "flatten_7 (Flatten)          (None, 40000)             0         \n",
      "_________________________________________________________________\n",
      "dense_14 (Dense)             (None, 250)               10000250  \n",
      "_________________________________________________________________\n",
      "dense_15 (Dense)             (None, 2)                 502       \n",
      "=================================================================\n",
      "Total params: 10,001,752\n",
      "Trainable params: 10,001,752\n",
      "Non-trainable params: 0\n",
      "_________________________________________________________________\n"
     ]
    }
   ],
   "source": [
    "# Create the layers of the CNN\n",
    "cnn_classifier = Sequential()\n",
    "cnn_classifier.add(Conv2D(n_filters, kernel_size=kernel_size, activation='relu',input_shape=(15, embeddings_dim_info, 1), padding='same'))\n",
    "cnn_classifier.add(LeakyReLU(alpha=0.1))\n",
    "cnn_classifier.add(MaxPooling2D(pool_size=(2,2), padding='same'))\n",
    "cnn_classifier.add(Flatten())\n",
    "cnn_classifier.add(Dense(dense_units, activation='relu'))\n",
    "#cnn_classifier.add(LeakyReLU(alpha=0.1))                  \n",
    "cnn_classifier.add(Dense(num_classes, activation='sigmoid'))\n",
    "\n",
    "cnn_classifier.compile(loss=keras.losses.binary_crossentropy, optimizer=keras.optimizers.Adam(),metrics=['accuracy'])\n",
    "cnn_classifier.summary()"
   ]
  },
  {
   "cell_type": "code",
   "execution_count": 68,
   "metadata": {},
   "outputs": [],
   "source": [
    "ytrain_cnn.resize((75000, 1))"
   ]
  },
  {
   "cell_type": "code",
   "execution_count": 90,
   "metadata": {},
   "outputs": [
    {
     "data": {
      "text/plain": [
       "array([[1., 0.],\n",
       "       [0., 1.],\n",
       "       [0., 1.],\n",
       "       ...,\n",
       "       [0., 1.],\n",
       "       [1., 0.],\n",
       "       [1., 0.]], dtype=float32)"
      ]
     },
     "execution_count": 90,
     "metadata": {},
     "output_type": "execute_result"
    }
   ],
   "source": [
    "from keras.utils import to_categorical\n",
    "\n",
    "ytrain_cnn = np.array([ 0 if x==-1 else x for x in ytrain_cnn ])\n",
    "ytrain_cnn = to_categorical(ytrain_cnn)\n",
    "ytrain_cnn"
   ]
  },
  {
   "cell_type": "code",
   "execution_count": null,
   "metadata": {},
   "outputs": [],
   "source": [
    "%%time\n",
    "# Train the model\n",
    "cnn_history = cnn_classifier.fit(xtrain_cnn, ytrain_cnn, batch_size=batch_size,epochs=epochs,verbose=1, validation_split=0.2)"
   ]
  },
  {
   "cell_type": "code",
   "execution_count": 50,
   "metadata": {},
   "outputs": [],
   "source": [
    "# Reshape test data\n",
    "xtest_cnn = reshape_tweet_matrices(xtest_cnn, embeddings_dim_info, 15)"
   ]
  },
  {
   "cell_type": "code",
   "execution_count": 56,
   "metadata": {},
   "outputs": [
    {
     "data": {
      "text/plain": [
       "(25000, 15, 100, 1)"
      ]
     },
     "execution_count": 56,
     "metadata": {},
     "output_type": "execute_result"
    }
   ],
   "source": [
    "xtest_cnn = np.array(xtest_cnn)\n",
    "xtest_cnn.resize((25000, 15, 100, 1))\n",
    "xtest_cnn.shape"
   ]
  },
  {
   "cell_type": "code",
   "execution_count": 97,
   "metadata": {},
   "outputs": [
    {
     "data": {
      "text/plain": [
       "array([[0., 1.],\n",
       "       [1., 0.],\n",
       "       [0., 1.],\n",
       "       ...,\n",
       "       [0., 1.],\n",
       "       [0., 1.],\n",
       "       [1., 0.]], dtype=float32)"
      ]
     },
     "execution_count": 97,
     "metadata": {},
     "output_type": "execute_result"
    }
   ],
   "source": [
    "ytest_cnn = np.array([ 0 if x==-1 else x for x in ytest_cnn ])\n",
    "ytest_cnn = to_categorical(ytest_cnn)\n",
    "ytest_cnn"
   ]
  },
  {
   "cell_type": "code",
   "execution_count": 98,
   "metadata": {},
   "outputs": [
    {
     "name": "stdout",
     "output_type": "stream",
     "text": [
      "782/782 [==============================] - 19s 24ms/step - loss: 1.6181 - accuracy: 0.6066\n"
     ]
    }
   ],
   "source": [
    "# Evaluate Model\n",
    "test_eval = cnn_classifier.evaluate(xtest_cnn, ytest_cnn)"
   ]
  },
  {
   "cell_type": "code",
   "execution_count": 99,
   "metadata": {},
   "outputs": [
    {
     "data": {
      "text/plain": [
       "[1.6181174516677856, 0.6065999865531921]"
      ]
     },
     "execution_count": 99,
     "metadata": {},
     "output_type": "execute_result"
    }
   ],
   "source": [
    "test_eval"
   ]
  },
  {
   "cell_type": "code",
   "execution_count": null,
   "metadata": {},
   "outputs": [],
   "source": []
  },
  {
   "cell_type": "code",
   "execution_count": null,
   "metadata": {},
   "outputs": [
    {
     "name": "stdout",
     "output_type": "stream",
     "text": [
      "kernelsize 3, batchsize 32, filtersize=100\n",
      "Model: \"sequential_10\"\n",
      "_________________________________________________________________\n",
      "Layer (type)                 Output Shape              Param #   \n",
      "=================================================================\n",
      "conv2d_10 (Conv2D)           (None, 15, 100, 100)      1000      \n",
      "_________________________________________________________________\n",
      "max_pooling2d_9 (MaxPooling2 (None, 8, 50, 100)        0         \n",
      "_________________________________________________________________\n",
      "flatten_9 (Flatten)          (None, 40000)             0         \n",
      "_________________________________________________________________\n",
      "dense_18 (Dense)             (None, 250)               10000250  \n",
      "_________________________________________________________________\n",
      "dense_19 (Dense)             (None, 2)                 502       \n",
      "=================================================================\n",
      "Total params: 10,001,752\n",
      "Trainable params: 10,001,752\n",
      "Non-trainable params: 0\n",
      "_________________________________________________________________\n",
      "None\n",
      "Epoch 1/20\n",
      "1875/1875 [==============================] - 269s 144ms/step - loss: 0.6758 - accuracy: 0.5847 - val_loss: 0.6564 - val_accuracy: 0.6025\n",
      "Epoch 2/20\n",
      "1875/1875 [==============================] - 210s 112ms/step - loss: 0.6404 - accuracy: 0.6171 - val_loss: 0.6611 - val_accuracy: 0.5933\n",
      "Epoch 3/20\n",
      "1875/1875 [==============================] - 205s 109ms/step - loss: 0.6188 - accuracy: 0.6377 - val_loss: 0.6427 - val_accuracy: 0.6133\n",
      "Epoch 4/20\n",
      "1875/1875 [==============================] - 190s 101ms/step - loss: 0.5947 - accuracy: 0.6611 - val_loss: 0.6434 - val_accuracy: 0.6225\n",
      "Epoch 5/20\n",
      "1875/1875 [==============================] - 190s 101ms/step - loss: 0.5625 - accuracy: 0.6919 - val_loss: 0.6665 - val_accuracy: 0.6165\n",
      "Epoch 6/20\n",
      "1875/1875 [==============================] - 190s 101ms/step - loss: 0.5190 - accuracy: 0.7243 - val_loss: 0.6972 - val_accuracy: 0.6094\n",
      "Epoch 7/20\n",
      "1875/1875 [==============================] - 190s 101ms/step - loss: 0.4657 - accuracy: 0.7628 - val_loss: 0.7751 - val_accuracy: 0.6006\n",
      "Epoch 8/20\n",
      "1875/1875 [==============================] - 191s 102ms/step - loss: 0.4074 - accuracy: 0.7971 - val_loss: 0.8437 - val_accuracy: 0.6078\n",
      "Epoch 9/20\n",
      "1875/1875 [==============================] - 188s 100ms/step - loss: 0.3498 - accuracy: 0.8319 - val_loss: 0.9419 - val_accuracy: 0.6095\n",
      "Epoch 10/20\n",
      "1875/1875 [==============================] - 189s 101ms/step - loss: 0.2963 - accuracy: 0.8605 - val_loss: 1.1393 - val_accuracy: 0.6010\n",
      "Epoch 11/20\n",
      "1875/1875 [==============================] - 189s 101ms/step - loss: 0.2566 - accuracy: 0.8823 - val_loss: 1.2700 - val_accuracy: 0.6015\n",
      "Epoch 12/20\n",
      "1875/1875 [==============================] - 189s 101ms/step - loss: 0.2224 - accuracy: 0.9002 - val_loss: 1.4577 - val_accuracy: 0.6085\n",
      "Epoch 13/20\n",
      "1875/1875 [==============================] - 189s 101ms/step - loss: 0.1971 - accuracy: 0.9120 - val_loss: 1.5937 - val_accuracy: 0.6051\n",
      "Epoch 14/20\n",
      "1875/1875 [==============================] - 190s 101ms/step - loss: 0.1758 - accuracy: 0.9216 - val_loss: 1.7266 - val_accuracy: 0.6059\n",
      "Epoch 15/20\n",
      "1875/1875 [==============================] - 189s 101ms/step - loss: 0.1620 - accuracy: 0.9296 - val_loss: 1.9144 - val_accuracy: 0.6044\n",
      "Epoch 16/20\n",
      "1875/1875 [==============================] - 189s 101ms/step - loss: 0.1406 - accuracy: 0.9390 - val_loss: 2.0455 - val_accuracy: 0.5965\n",
      "Epoch 17/20\n",
      "1875/1875 [==============================] - 188s 101ms/step - loss: 0.1369 - accuracy: 0.9439 - val_loss: 1.9771 - val_accuracy: 0.5991\n",
      "Epoch 18/20\n",
      "1875/1875 [==============================] - 188s 101ms/step - loss: 0.1194 - accuracy: 0.9507 - val_loss: 2.2338 - val_accuracy: 0.5973\n",
      "Epoch 19/20\n",
      "1875/1875 [==============================] - 188s 100ms/step - loss: 0.1173 - accuracy: 0.9521 - val_loss: 2.3048 - val_accuracy: 0.6032\n",
      "Epoch 20/20\n",
      "1875/1875 [==============================] - 192s 102ms/step - loss: 0.1000 - accuracy: 0.9605 - val_loss: 2.6486 - val_accuracy: 0.5997\n",
      "782/782 [==============================] - 17s 22ms/step - loss: 2.7759 - accuracy: 0.5945\n",
      "kernelsize 3, batchsize 32, filtersize=200\n",
      "Model: \"sequential_11\"\n",
      "_________________________________________________________________\n",
      "Layer (type)                 Output Shape              Param #   \n",
      "=================================================================\n",
      "conv2d_11 (Conv2D)           (None, 15, 100, 200)      2000      \n",
      "_________________________________________________________________\n",
      "max_pooling2d_10 (MaxPooling (None, 8, 50, 200)        0         \n",
      "_________________________________________________________________\n",
      "flatten_10 (Flatten)         (None, 80000)             0         \n",
      "_________________________________________________________________\n",
      "dense_20 (Dense)             (None, 250)               20000250  \n",
      "_________________________________________________________________\n",
      "dense_21 (Dense)             (None, 2)                 502       \n",
      "=================================================================\n",
      "Total params: 20,002,752\n",
      "Trainable params: 20,002,752\n",
      "Non-trainable params: 0\n",
      "_________________________________________________________________\n",
      "None\n",
      "Epoch 1/20\n",
      "1875/1875 [==============================] - 364s 194ms/step - loss: 0.6826 - accuracy: 0.5853 - val_loss: 0.6546 - val_accuracy: 0.6123\n",
      "Epoch 2/20\n",
      "1875/1875 [==============================] - 364s 194ms/step - loss: 0.6399 - accuracy: 0.6158 - val_loss: 0.6492 - val_accuracy: 0.5973\n",
      "Epoch 3/20\n",
      "1875/1875 [==============================] - 361s 193ms/step - loss: 0.6155 - accuracy: 0.6406 - val_loss: 0.6472 - val_accuracy: 0.6042\n",
      "Epoch 4/20\n",
      "1875/1875 [==============================] - 364s 194ms/step - loss: 0.5854 - accuracy: 0.6716 - val_loss: 0.6513 - val_accuracy: 0.6067\n",
      "Epoch 5/20\n",
      "1875/1875 [==============================] - 362s 193ms/step - loss: 0.5397 - accuracy: 0.7115 - val_loss: 0.6912 - val_accuracy: 0.6078\n",
      "Epoch 6/20\n",
      "1875/1875 [==============================] - 361s 192ms/step - loss: 0.4816 - accuracy: 0.7544 - val_loss: 0.7490 - val_accuracy: 0.5996\n",
      "Epoch 7/20\n",
      "1875/1875 [==============================] - 364s 194ms/step - loss: 0.4098 - accuracy: 0.8031 - val_loss: 0.8285 - val_accuracy: 0.6029\n",
      "Epoch 8/20\n",
      "1875/1875 [==============================] - 361s 193ms/step - loss: 0.3339 - accuracy: 0.8449 - val_loss: 0.9665 - val_accuracy: 0.5986\n",
      "Epoch 9/20\n",
      "1875/1875 [==============================] - 361s 192ms/step - loss: 0.2658 - accuracy: 0.8818 - val_loss: 1.2001 - val_accuracy: 0.5999\n",
      "Epoch 10/20\n",
      "1875/1875 [==============================] - 364s 194ms/step - loss: 0.2152 - accuracy: 0.9079 - val_loss: 1.3233 - val_accuracy: 0.5929\n",
      "Epoch 11/20\n",
      "1875/1875 [==============================] - 360s 192ms/step - loss: 0.1746 - accuracy: 0.9278 - val_loss: 1.5998 - val_accuracy: 0.5970\n",
      "Epoch 12/20\n",
      "1875/1875 [==============================] - 365s 195ms/step - loss: 0.1481 - accuracy: 0.9419 - val_loss: 1.7900 - val_accuracy: 0.5979\n",
      "Epoch 13/20\n",
      "1875/1875 [==============================] - 373s 199ms/step - loss: 0.1264 - accuracy: 0.9518 - val_loss: 1.9337 - val_accuracy: 0.6003\n",
      "Epoch 14/20\n",
      "1875/1875 [==============================] - 364s 194ms/step - loss: 0.1103 - accuracy: 0.9584 - val_loss: 2.0149 - val_accuracy: 0.5923\n",
      "Epoch 15/20\n",
      "1875/1875 [==============================] - 363s 194ms/step - loss: 0.0961 - accuracy: 0.9658 - val_loss: 2.2997 - val_accuracy: 0.6018\n",
      "Epoch 16/20\n",
      "1875/1875 [==============================] - 362s 193ms/step - loss: 0.0913 - accuracy: 0.9684 - val_loss: 2.3978 - val_accuracy: 0.5988\n",
      "Epoch 17/20\n",
      "1875/1875 [==============================] - 364s 194ms/step - loss: 0.0832 - accuracy: 0.9717 - val_loss: 2.5644 - val_accuracy: 0.5939\n",
      "Epoch 18/20\n",
      "1875/1875 [==============================] - 362s 193ms/step - loss: 0.0713 - accuracy: 0.9754 - val_loss: 2.6457 - val_accuracy: 0.5946\n",
      "Epoch 19/20\n",
      "1875/1875 [==============================] - 363s 194ms/step - loss: 0.0710 - accuracy: 0.9764 - val_loss: 2.7157 - val_accuracy: 0.5983\n",
      "Epoch 20/20\n",
      "1875/1875 [==============================] - 364s 194ms/step - loss: 0.0684 - accuracy: 0.9767 - val_loss: 2.6926 - val_accuracy: 0.5994\n",
      "782/782 [==============================] - 34s 44ms/step - loss: 2.6321 - accuracy: 0.6054\n",
      "kernelsize 3, batchsize 32, filtersize=300\n",
      "Model: \"sequential_12\"\n",
      "_________________________________________________________________\n",
      "Layer (type)                 Output Shape              Param #   \n",
      "=================================================================\n",
      "conv2d_12 (Conv2D)           (None, 15, 100, 300)      3000      \n",
      "_________________________________________________________________\n",
      "max_pooling2d_11 (MaxPooling (None, 8, 50, 300)        0         \n",
      "_________________________________________________________________\n",
      "flatten_11 (Flatten)         (None, 120000)            0         \n",
      "_________________________________________________________________\n",
      "dense_22 (Dense)             (None, 250)               30000250  \n",
      "_________________________________________________________________\n",
      "dense_23 (Dense)             (None, 2)                 502       \n",
      "=================================================================\n",
      "Total params: 30,003,752\n",
      "Trainable params: 30,003,752\n",
      "Non-trainable params: 0\n",
      "_________________________________________________________________\n",
      "None\n",
      "Epoch 1/20\n",
      "1875/1875 [==============================] - 576s 307ms/step - loss: 0.6807 - accuracy: 0.5881 - val_loss: 0.6473 - val_accuracy: 0.6063\n",
      "Epoch 2/20\n",
      "1875/1875 [==============================] - 547s 292ms/step - loss: 0.6361 - accuracy: 0.6185 - val_loss: 0.6409 - val_accuracy: 0.6153\n",
      "Epoch 3/20\n",
      "1875/1875 [==============================] - 541s 288ms/step - loss: 0.6109 - accuracy: 0.6451 - val_loss: 0.6383 - val_accuracy: 0.6127\n",
      "Epoch 4/20\n",
      "1875/1875 [==============================] - 540s 288ms/step - loss: 0.5773 - accuracy: 0.6803 - val_loss: 0.7003 - val_accuracy: 0.6086\n",
      "Epoch 5/20\n",
      "1875/1875 [==============================] - 542s 289ms/step - loss: 0.5308 - accuracy: 0.7191 - val_loss: 0.6868 - val_accuracy: 0.6083\n",
      "Epoch 6/20\n",
      "1875/1875 [==============================] - 539s 288ms/step - loss: 0.4697 - accuracy: 0.7619 - val_loss: 0.7557 - val_accuracy: 0.5987\n",
      "Epoch 7/20\n",
      "1875/1875 [==============================] - 542s 289ms/step - loss: 0.3995 - accuracy: 0.8076 - val_loss: 0.8402 - val_accuracy: 0.5945\n",
      "Epoch 8/20\n",
      "1875/1875 [==============================] - 540s 288ms/step - loss: 0.3247 - accuracy: 0.8490 - val_loss: 0.9648 - val_accuracy: 0.5909\n",
      "Epoch 9/20\n",
      "1875/1875 [==============================] - 539s 287ms/step - loss: 0.2659 - accuracy: 0.8818 - val_loss: 1.1632 - val_accuracy: 0.5861\n",
      "Epoch 10/20\n",
      "1875/1875 [==============================] - 539s 287ms/step - loss: 0.2154 - accuracy: 0.9078 - val_loss: 1.3648 - val_accuracy: 0.5967\n",
      "Epoch 11/20\n",
      "1875/1875 [==============================] - 541s 288ms/step - loss: 0.1802 - accuracy: 0.9253 - val_loss: 1.6299 - val_accuracy: 0.5955\n",
      "Epoch 12/20\n",
      "1875/1875 [==============================] - 540s 288ms/step - loss: 0.1532 - accuracy: 0.9384 - val_loss: 1.7854 - val_accuracy: 0.5983\n",
      "Epoch 13/20\n",
      "1875/1875 [==============================] - 541s 288ms/step - loss: 0.1328 - accuracy: 0.9479 - val_loss: 1.9110 - val_accuracy: 0.5913\n",
      "Epoch 14/20\n",
      "1875/1875 [==============================] - 539s 287ms/step - loss: 0.1205 - accuracy: 0.9538 - val_loss: 1.9894 - val_accuracy: 0.5905\n",
      "Epoch 15/20\n",
      "1875/1875 [==============================] - 541s 288ms/step - loss: 0.1069 - accuracy: 0.9608 - val_loss: 2.2137 - val_accuracy: 0.5914\n",
      "Epoch 16/20\n",
      "1875/1875 [==============================] - 539s 288ms/step - loss: 0.0989 - accuracy: 0.9651 - val_loss: 2.4097 - val_accuracy: 0.5957\n",
      "Epoch 17/20\n",
      "1875/1875 [==============================] - 538s 287ms/step - loss: 0.0865 - accuracy: 0.9690 - val_loss: 2.4512 - val_accuracy: 0.5991\n",
      "Epoch 18/20\n",
      "1875/1875 [==============================] - 539s 287ms/step - loss: 0.0802 - accuracy: 0.9726 - val_loss: 2.4986 - val_accuracy: 0.5936\n",
      "Epoch 19/20\n",
      "1875/1875 [==============================] - 538s 287ms/step - loss: 0.0711 - accuracy: 0.9759 - val_loss: 2.7591 - val_accuracy: 0.5966\n",
      "Epoch 20/20\n",
      "1875/1875 [==============================] - 538s 287ms/step - loss: 0.0707 - accuracy: 0.9760 - val_loss: 2.7917 - val_accuracy: 0.5831\n",
      "782/782 [==============================] - 52s 66ms/step - loss: 2.7995 - accuracy: 0.5884\n",
      "kernelsize 3, batchsize 64, filtersize=100\n",
      "Model: \"sequential_13\"\n",
      "_________________________________________________________________\n",
      "Layer (type)                 Output Shape              Param #   \n",
      "=================================================================\n",
      "conv2d_13 (Conv2D)           (None, 15, 100, 100)      1000      \n",
      "_________________________________________________________________\n",
      "max_pooling2d_12 (MaxPooling (None, 8, 50, 100)        0         \n",
      "_________________________________________________________________\n",
      "flatten_12 (Flatten)         (None, 40000)             0         \n",
      "_________________________________________________________________\n",
      "dense_24 (Dense)             (None, 250)               10000250  \n",
      "_________________________________________________________________\n",
      "dense_25 (Dense)             (None, 2)                 502       \n",
      "=================================================================\n",
      "Total params: 10,001,752\n",
      "Trainable params: 10,001,752\n",
      "Non-trainable params: 0\n",
      "_________________________________________________________________\n",
      "None\n",
      "Epoch 1/20\n",
      "938/938 [==============================] - 133s 141ms/step - loss: 0.6970 - accuracy: 0.5803 - val_loss: 0.6521 - val_accuracy: 0.6063\n",
      "Epoch 2/20\n",
      "938/938 [==============================] - 134s 142ms/step - loss: 0.6439 - accuracy: 0.6140 - val_loss: 0.6477 - val_accuracy: 0.6097\n",
      "Epoch 3/20\n",
      "938/938 [==============================] - 136s 145ms/step - loss: 0.6312 - accuracy: 0.6237 - val_loss: 0.6419 - val_accuracy: 0.6114\n",
      "Epoch 4/20\n",
      "938/938 [==============================] - 134s 143ms/step - loss: 0.6180 - accuracy: 0.6296 - val_loss: 0.6443 - val_accuracy: 0.6137\n",
      "Epoch 5/20\n",
      "938/938 [==============================] - 133s 142ms/step - loss: 0.6063 - accuracy: 0.6375 - val_loss: 0.6560 - val_accuracy: 0.6102\n",
      "Epoch 6/20\n",
      "938/938 [==============================] - 133s 142ms/step - loss: 0.5929 - accuracy: 0.6430 - val_loss: 0.6515 - val_accuracy: 0.6052\n",
      "Epoch 7/20\n",
      "938/938 [==============================] - 134s 143ms/step - loss: 0.5786 - accuracy: 0.6640 - val_loss: 0.6560 - val_accuracy: 0.6024\n",
      "Epoch 8/20\n",
      "938/938 [==============================] - 135s 144ms/step - loss: 0.5673 - accuracy: 0.6693 - val_loss: 0.6603 - val_accuracy: 0.5851\n",
      "Epoch 9/20\n",
      "938/938 [==============================] - 133s 142ms/step - loss: 0.5544 - accuracy: 0.6814 - val_loss: 0.6776 - val_accuracy: 0.5534\n",
      "Epoch 10/20\n",
      "938/938 [==============================] - 133s 141ms/step - loss: 0.5429 - accuracy: 0.6894 - val_loss: 0.6734 - val_accuracy: 0.5905\n",
      "Epoch 11/20\n",
      "938/938 [==============================] - 133s 142ms/step - loss: 0.5323 - accuracy: 0.6952 - val_loss: 0.7019 - val_accuracy: 0.5937\n",
      "Epoch 12/20\n",
      "938/938 [==============================] - 132s 141ms/step - loss: 0.5197 - accuracy: 0.7064 - val_loss: 0.7238 - val_accuracy: 0.5913\n",
      "Epoch 13/20\n",
      "938/938 [==============================] - 133s 142ms/step - loss: 0.5113 - accuracy: 0.7112 - val_loss: 0.7328 - val_accuracy: 0.5873\n",
      "Epoch 14/20\n",
      "938/938 [==============================] - 132s 141ms/step - loss: 0.4983 - accuracy: 0.7179 - val_loss: 0.7090 - val_accuracy: 0.5798\n",
      "Epoch 15/20\n",
      "938/938 [==============================] - 133s 141ms/step - loss: 0.4891 - accuracy: 0.7258 - val_loss: 0.7544 - val_accuracy: 0.5900\n",
      "Epoch 16/20\n",
      "938/938 [==============================] - 133s 141ms/step - loss: 0.4778 - accuracy: 0.7323 - val_loss: 0.8251 - val_accuracy: 0.5745\n",
      "Epoch 17/20\n",
      "938/938 [==============================] - 134s 143ms/step - loss: 0.4677 - accuracy: 0.7380 - val_loss: 0.8455 - val_accuracy: 0.5937\n",
      "Epoch 18/20\n",
      "938/938 [==============================] - 133s 141ms/step - loss: 0.4587 - accuracy: 0.7435 - val_loss: 0.9105 - val_accuracy: 0.5905\n",
      "Epoch 19/20\n",
      "938/938 [==============================] - 132s 141ms/step - loss: 0.4515 - accuracy: 0.7495 - val_loss: 0.9145 - val_accuracy: 0.5993\n",
      "Epoch 20/20\n",
      "938/938 [==============================] - 134s 142ms/step - loss: 0.4401 - accuracy: 0.7541 - val_loss: 0.9124 - val_accuracy: 0.5891\n",
      "782/782 [==============================] - 17s 22ms/step - loss: 0.9033 - accuracy: 0.5948\n",
      "kernelsize 3, batchsize 64, filtersize=200\n",
      "Model: \"sequential_14\"\n",
      "_________________________________________________________________\n",
      "Layer (type)                 Output Shape              Param #   \n",
      "=================================================================\n",
      "conv2d_14 (Conv2D)           (None, 15, 100, 200)      2000      \n",
      "_________________________________________________________________\n",
      "max_pooling2d_13 (MaxPooling (None, 8, 50, 200)        0         \n",
      "_________________________________________________________________\n",
      "flatten_13 (Flatten)         (None, 80000)             0         \n",
      "_________________________________________________________________\n",
      "dense_26 (Dense)             (None, 250)               20000250  \n",
      "_________________________________________________________________\n",
      "dense_27 (Dense)             (None, 2)                 502       \n",
      "=================================================================\n",
      "Total params: 20,002,752\n",
      "Trainable params: 20,002,752\n",
      "Non-trainable params: 0\n",
      "_________________________________________________________________\n",
      "None\n",
      "Epoch 1/20\n",
      "938/938 [==============================] - 258s 276ms/step - loss: 0.7158 - accuracy: 0.5815 - val_loss: 0.6614 - val_accuracy: 0.5847\n",
      "Epoch 2/20\n",
      "938/938 [==============================] - 257s 274ms/step - loss: 0.6457 - accuracy: 0.6115 - val_loss: 0.6465 - val_accuracy: 0.6051\n",
      "Epoch 3/20\n",
      "938/938 [==============================] - 259s 276ms/step - loss: 0.6254 - accuracy: 0.6341 - val_loss: 0.6405 - val_accuracy: 0.6193\n",
      "Epoch 4/20\n",
      "938/938 [==============================] - 258s 275ms/step - loss: 0.6052 - accuracy: 0.6536 - val_loss: 0.6434 - val_accuracy: 0.6169\n",
      "Epoch 5/20\n",
      "938/938 [==============================] - 259s 276ms/step - loss: 0.5794 - accuracy: 0.6786 - val_loss: 0.6584 - val_accuracy: 0.6118\n",
      "Epoch 6/20\n",
      "938/938 [==============================] - 256s 273ms/step - loss: 0.5497 - accuracy: 0.7052 - val_loss: 0.6733 - val_accuracy: 0.6126\n",
      "Epoch 7/20\n",
      "938/938 [==============================] - 256s 273ms/step - loss: 0.5113 - accuracy: 0.7341 - val_loss: 0.6979 - val_accuracy: 0.6110\n",
      "Epoch 8/20\n",
      "938/938 [==============================] - 276s 294ms/step - loss: 0.4628 - accuracy: 0.7707 - val_loss: 0.7296 - val_accuracy: 0.6066\n",
      "Epoch 9/20\n",
      "938/938 [==============================] - 276s 295ms/step - loss: 0.4079 - accuracy: 0.8043 - val_loss: 0.8247 - val_accuracy: 0.6017\n",
      "Epoch 10/20\n",
      "938/938 [==============================] - 277s 295ms/step - loss: 0.3502 - accuracy: 0.8384 - val_loss: 0.9507 - val_accuracy: 0.6011\n",
      "Epoch 11/20\n",
      "938/938 [==============================] - 276s 294ms/step - loss: 0.2997 - accuracy: 0.8661 - val_loss: 1.1565 - val_accuracy: 0.6061\n",
      "Epoch 12/20\n",
      "938/938 [==============================] - 277s 295ms/step - loss: 0.2536 - accuracy: 0.8904 - val_loss: 1.2221 - val_accuracy: 0.5989\n",
      "Epoch 13/20\n",
      "938/938 [==============================] - 284s 302ms/step - loss: 0.2117 - accuracy: 0.9105 - val_loss: 1.3331 - val_accuracy: 0.5955\n",
      "Epoch 14/20\n",
      "161/938 [====>.........................] - ETA: 3:57 - loss: 0.1530 - accuracy: 0.9428"
     ]
    }
   ],
   "source": [
    "epochs = 20\n",
    "num_classes = 2\n",
    "dense_units = 250\n",
    "\n",
    "results = dict()\n",
    "\n",
    "for ks in [3,4,5] :\n",
    "    for bs in [32,64,128] :\n",
    "        for fs in [100, 200, 300] :\n",
    "            print(f\"kernelsize {ks}, batchsize {bs}, filtersize={fs}\")\n",
    "            \n",
    "            # Create the layers of the CNN\n",
    "            cnn_classifier = Sequential()\n",
    "            cnn_classifier.add(Conv2D(fs, kernel_size=(ks,ks), activation='relu',input_shape=(15, embeddings_dim_info, 1), padding='same'))\n",
    "            #cnn_classifier.add(LeakyReLU(alpha=0.1))\n",
    "            cnn_classifier.add(MaxPooling2D(pool_size=(2,2), padding='same'))\n",
    "            cnn_classifier.add(Flatten())\n",
    "            cnn_classifier.add(Dense(dense_units, activation='relu'))\n",
    "            #cnn_classifier.add(LeakyReLU(alpha=0.1))                  \n",
    "            cnn_classifier.add(Dense(num_classes, activation='sigmoid'))\n",
    "\n",
    "            cnn_classifier.compile(loss=keras.losses.binary_crossentropy, optimizer=keras.optimizers.Adam(),metrics=['accuracy'])\n",
    "            print(cnn_classifier.summary())\n",
    "\n",
    "            # Train the model\n",
    "            cnn_history = cnn_classifier.fit(xtrain_cnn, ytrain_cnn, batch_size=bs,epochs=epochs,verbose=1, validation_split=0.2)\n",
    "\n",
    "            # Evaluate Model\n",
    "            test_eval = cnn_classifier.evaluate(xtest_cnn, ytest_cnn)\n",
    "            \n",
    "            results[(ks,bs,fs)] = (cnn_history, test_eval)"
   ]
  },
  {
   "cell_type": "code",
   "execution_count": null,
   "metadata": {},
   "outputs": [],
   "source": []
  },
  {
   "cell_type": "code",
   "execution_count": null,
   "metadata": {},
   "outputs": [],
   "source": []
  },
  {
   "cell_type": "code",
   "execution_count": null,
   "metadata": {},
   "outputs": [],
   "source": []
  },
  {
   "cell_type": "code",
   "execution_count": null,
   "metadata": {},
   "outputs": [],
   "source": []
  },
  {
   "cell_type": "code",
   "execution_count": null,
   "metadata": {},
   "outputs": [],
   "source": []
  },
  {
   "cell_type": "code",
   "execution_count": null,
   "metadata": {},
   "outputs": [],
   "source": []
  },
  {
   "cell_type": "code",
   "execution_count": null,
   "metadata": {},
   "outputs": [],
   "source": []
  },
  {
   "cell_type": "code",
   "execution_count": null,
   "metadata": {},
   "outputs": [],
   "source": []
  },
  {
   "cell_type": "code",
   "execution_count": null,
   "metadata": {},
   "outputs": [],
   "source": []
  },
  {
   "cell_type": "code",
   "execution_count": null,
   "metadata": {},
   "outputs": [],
   "source": []
  },
  {
   "cell_type": "code",
   "execution_count": null,
   "metadata": {},
   "outputs": [],
   "source": []
  },
  {
   "cell_type": "code",
   "execution_count": null,
   "metadata": {},
   "outputs": [],
   "source": [
    "# Save CNN results\n",
    "path = '../results/'\n",
    "name = path+'metrics_'+str(local_t_size)+'_'+str(embeddings_dim_info)+'_CNN'\n",
    "np.save(name, metrics)"
   ]
  },
  {
   "cell_type": "markdown",
   "metadata": {},
   "source": [
    "---\n",
    "## Testing\n",
    "This section is dedicated to using the previous classifiers to predict the labels of the provided testing set."
   ]
  },
  {
   "cell_type": "code",
   "execution_count": 47,
   "metadata": {},
   "outputs": [
    {
     "data": {
      "text/html": [
       "<div>\n",
       "<style scoped>\n",
       "    .dataframe tbody tr th:only-of-type {\n",
       "        vertical-align: middle;\n",
       "    }\n",
       "\n",
       "    .dataframe tbody tr th {\n",
       "        vertical-align: top;\n",
       "    }\n",
       "\n",
       "    .dataframe thead th {\n",
       "        text-align: right;\n",
       "    }\n",
       "</style>\n",
       "<table border=\"1\" class=\"dataframe\">\n",
       "  <thead>\n",
       "    <tr style=\"text-align: right;\">\n",
       "      <th></th>\n",
       "      <th>index</th>\n",
       "      <th>label</th>\n",
       "      <th>mean_embed</th>\n",
       "    </tr>\n",
       "  </thead>\n",
       "  <tbody>\n",
       "    <tr>\n",
       "      <th>0</th>\n",
       "      <td>1193381</td>\n",
       "      <td>1</td>\n",
       "      <td>[0.032002123948292126, -0.014642657203437489, ...</td>\n",
       "    </tr>\n",
       "    <tr>\n",
       "      <th>1</th>\n",
       "      <td>644929</td>\n",
       "      <td>1</td>\n",
       "      <td>[0.10238272539678156, -0.02736877932503185, 0....</td>\n",
       "    </tr>\n",
       "    <tr>\n",
       "      <th>2</th>\n",
       "      <td>578303</td>\n",
       "      <td>1</td>\n",
       "      <td>[0.032941437860502285, 0.0014634508830161917, ...</td>\n",
       "    </tr>\n",
       "    <tr>\n",
       "      <th>3</th>\n",
       "      <td>525309</td>\n",
       "      <td>1</td>\n",
       "      <td>[0.04879550502681794, 0.017707842326910788, 0....</td>\n",
       "    </tr>\n",
       "    <tr>\n",
       "      <th>4</th>\n",
       "      <td>34941</td>\n",
       "      <td>1</td>\n",
       "      <td>[0.1420258276670681, -0.03843481256309387, 0.0...</td>\n",
       "    </tr>\n",
       "    <tr>\n",
       "      <th>...</th>\n",
       "      <td>...</td>\n",
       "      <td>...</td>\n",
       "      <td>...</td>\n",
       "    </tr>\n",
       "    <tr>\n",
       "      <th>99995</th>\n",
       "      <td>1159713</td>\n",
       "      <td>-1</td>\n",
       "      <td>[0.15079636217861106, 0.005626630631020118, 0....</td>\n",
       "    </tr>\n",
       "    <tr>\n",
       "      <th>99996</th>\n",
       "      <td>249113</td>\n",
       "      <td>-1</td>\n",
       "      <td>[0.05451928253254213, -0.052474023026710545, 0...</td>\n",
       "    </tr>\n",
       "    <tr>\n",
       "      <th>99997</th>\n",
       "      <td>913236</td>\n",
       "      <td>-1</td>\n",
       "      <td>[0.09112505455684311, 0.040824608634503316, 0....</td>\n",
       "    </tr>\n",
       "    <tr>\n",
       "      <th>99998</th>\n",
       "      <td>830941</td>\n",
       "      <td>-1</td>\n",
       "      <td>[0.12102069953544096, -0.047875157832210066, 0...</td>\n",
       "    </tr>\n",
       "    <tr>\n",
       "      <th>99999</th>\n",
       "      <td>34871</td>\n",
       "      <td>-1</td>\n",
       "      <td>[0.12092917762249158, -0.06853298903401578, 0....</td>\n",
       "    </tr>\n",
       "  </tbody>\n",
       "</table>\n",
       "<p>100000 rows × 3 columns</p>\n",
       "</div>"
      ],
      "text/plain": [
       "         index label                                         mean_embed\n",
       "0      1193381     1  [0.032002123948292126, -0.014642657203437489, ...\n",
       "1       644929     1  [0.10238272539678156, -0.02736877932503185, 0....\n",
       "2       578303     1  [0.032941437860502285, 0.0014634508830161917, ...\n",
       "3       525309     1  [0.04879550502681794, 0.017707842326910788, 0....\n",
       "4        34941     1  [0.1420258276670681, -0.03843481256309387, 0.0...\n",
       "...        ...   ...                                                ...\n",
       "99995  1159713    -1  [0.15079636217861106, 0.005626630631020118, 0....\n",
       "99996   249113    -1  [0.05451928253254213, -0.052474023026710545, 0...\n",
       "99997   913236    -1  [0.09112505455684311, 0.040824608634503316, 0....\n",
       "99998   830941    -1  [0.12102069953544096, -0.047875157832210066, 0...\n",
       "99999    34871    -1  [0.12092917762249158, -0.06853298903401578, 0....\n",
       "\n",
       "[100000 rows x 3 columns]"
      ]
     },
     "execution_count": 47,
     "metadata": {},
     "output_type": "execute_result"
    }
   ],
   "source": []
  },
  {
   "cell_type": "code",
   "execution_count": 37,
   "metadata": {},
   "outputs": [
    {
     "name": "stdout",
     "output_type": "stream",
     "text": [
      "Process is not run as admin. Cannot run parallelized setting, running as sequential...\n"
     ]
    },
    {
     "name": "stderr",
     "output_type": "stream",
     "text": [
      "<ipython-input-36-415d7496b1fe>:8: VisibleDeprecationWarning: Creating an ndarray from ragged nested sequences (which is a list-or-tuple of lists-or-tuples-or ndarrays with different lengths or shapes) is deprecated. If you meant to do this, you must specify 'dtype=object' when creating the ndarray\n",
      "  if len(np.array(x).shape) == 1 :\n"
     ]
    },
    {
     "ename": "ValueError",
     "evalue": "Expected 2D array, got scalar array instead:\narray=-0.009954323422670053.\nReshape your data either using array.reshape(-1, 1) if your data has a single feature or array.reshape(1, -1) if it contains a single sample.",
     "output_type": "error",
     "traceback": [
      "\u001b[1;31m---------------------------------------------------------------------------\u001b[0m",
      "\u001b[1;31mValueError\u001b[0m                                Traceback (most recent call last)",
      "\u001b[1;32m<ipython-input-37-2c90f068df67>\u001b[0m in \u001b[0;36m<module>\u001b[1;34m\u001b[0m\n\u001b[0;32m      1\u001b[0m \u001b[0mtest\u001b[0m \u001b[1;33m=\u001b[0m \u001b[0mget_test_data\u001b[0m\u001b[1;33m(\u001b[0m\u001b[1;34m'../data/'\u001b[0m\u001b[1;33m)\u001b[0m\u001b[1;33m\u001b[0m\u001b[1;33m\u001b[0m\u001b[0m\n\u001b[0;32m      2\u001b[0m \u001b[0mtest\u001b[0m \u001b[1;33m=\u001b[0m \u001b[0mcompute_word_vectors\u001b[0m\u001b[1;33m(\u001b[0m\u001b[0mtest\u001b[0m\u001b[1;33m,\u001b[0m \u001b[0membeddings\u001b[0m\u001b[1;33m,\u001b[0m \u001b[1;36m100\u001b[0m\u001b[1;33m,\u001b[0m \u001b[0mvocab\u001b[0m\u001b[1;33m)\u001b[0m\u001b[1;33m\u001b[0m\u001b[1;33m\u001b[0m\u001b[0m\n\u001b[1;32m----> 3\u001b[1;33m \u001b[0mxtest\u001b[0m \u001b[1;33m=\u001b[0m \u001b[0mpreprocess\u001b[0m\u001b[1;33m(\u001b[0m\u001b[0mtest\u001b[0m\u001b[1;33m.\u001b[0m\u001b[0mmean_embed\u001b[0m\u001b[1;33m.\u001b[0m\u001b[0mtolist\u001b[0m\u001b[1;33m(\u001b[0m\u001b[1;33m)\u001b[0m\u001b[1;33m)\u001b[0m\u001b[1;33m\u001b[0m\u001b[1;33m\u001b[0m\u001b[0m\n\u001b[0m\u001b[0;32m      4\u001b[0m \u001b[1;33m\u001b[0m\u001b[0m\n\u001b[0;32m      5\u001b[0m \u001b[0mmodel\u001b[0m \u001b[1;33m=\u001b[0m \u001b[0mclassifiers\u001b[0m\u001b[1;33m[\u001b[0m\u001b[1;34m'Neural Network'\u001b[0m\u001b[1;33m]\u001b[0m\u001b[1;33m[\u001b[0m\u001b[1;36m0\u001b[0m\u001b[1;33m]\u001b[0m\u001b[1;33m\u001b[0m\u001b[1;33m\u001b[0m\u001b[0m\n",
      "\u001b[1;32m<ipython-input-36-415d7496b1fe>\u001b[0m in \u001b[0;36mpreprocess\u001b[1;34m(X)\u001b[0m\n\u001b[0;32m      7\u001b[0m     \u001b[1;31m# If features are list of features of different sizes, standardization has to be made list-wise\u001b[0m\u001b[1;33m\u001b[0m\u001b[1;33m\u001b[0m\u001b[1;33m\u001b[0m\u001b[0m\n\u001b[0;32m      8\u001b[0m     \u001b[1;32mif\u001b[0m \u001b[0mlen\u001b[0m\u001b[1;33m(\u001b[0m\u001b[0mnp\u001b[0m\u001b[1;33m.\u001b[0m\u001b[0marray\u001b[0m\u001b[1;33m(\u001b[0m\u001b[0mx\u001b[0m\u001b[1;33m)\u001b[0m\u001b[1;33m.\u001b[0m\u001b[0mshape\u001b[0m\u001b[1;33m)\u001b[0m \u001b[1;33m==\u001b[0m \u001b[1;36m1\u001b[0m \u001b[1;33m:\u001b[0m\u001b[1;33m\u001b[0m\u001b[1;33m\u001b[0m\u001b[0m\n\u001b[1;32m----> 9\u001b[1;33m         \u001b[0mx\u001b[0m \u001b[1;33m=\u001b[0m \u001b[0mnp\u001b[0m\u001b[1;33m.\u001b[0m\u001b[0marray\u001b[0m\u001b[1;33m(\u001b[0m\u001b[1;33m[\u001b[0m \u001b[0mStandardScaler\u001b[0m\u001b[1;33m(\u001b[0m\u001b[1;33m)\u001b[0m\u001b[1;33m.\u001b[0m\u001b[0mfit_transform\u001b[0m\u001b[1;33m(\u001b[0m\u001b[0ma\u001b[0m\u001b[1;33m)\u001b[0m \u001b[1;32mfor\u001b[0m \u001b[0ma\u001b[0m \u001b[1;32min\u001b[0m \u001b[0mx\u001b[0m \u001b[1;33m]\u001b[0m\u001b[1;33m)\u001b[0m\u001b[1;33m\u001b[0m\u001b[1;33m\u001b[0m\u001b[0m\n\u001b[0m\u001b[0;32m     10\u001b[0m     \u001b[1;32melse\u001b[0m \u001b[1;33m:\u001b[0m\u001b[1;33m\u001b[0m\u001b[1;33m\u001b[0m\u001b[0m\n\u001b[0;32m     11\u001b[0m         \u001b[0mx\u001b[0m \u001b[1;33m=\u001b[0m \u001b[0mStandardScaler\u001b[0m\u001b[1;33m(\u001b[0m\u001b[1;33m)\u001b[0m\u001b[1;33m.\u001b[0m\u001b[0mfit_transform\u001b[0m\u001b[1;33m(\u001b[0m\u001b[0mx\u001b[0m\u001b[1;33m)\u001b[0m\u001b[1;33m\u001b[0m\u001b[1;33m\u001b[0m\u001b[0m\n",
      "\u001b[1;32m<ipython-input-36-415d7496b1fe>\u001b[0m in \u001b[0;36m<listcomp>\u001b[1;34m(.0)\u001b[0m\n\u001b[0;32m      7\u001b[0m     \u001b[1;31m# If features are list of features of different sizes, standardization has to be made list-wise\u001b[0m\u001b[1;33m\u001b[0m\u001b[1;33m\u001b[0m\u001b[1;33m\u001b[0m\u001b[0m\n\u001b[0;32m      8\u001b[0m     \u001b[1;32mif\u001b[0m \u001b[0mlen\u001b[0m\u001b[1;33m(\u001b[0m\u001b[0mnp\u001b[0m\u001b[1;33m.\u001b[0m\u001b[0marray\u001b[0m\u001b[1;33m(\u001b[0m\u001b[0mx\u001b[0m\u001b[1;33m)\u001b[0m\u001b[1;33m.\u001b[0m\u001b[0mshape\u001b[0m\u001b[1;33m)\u001b[0m \u001b[1;33m==\u001b[0m \u001b[1;36m1\u001b[0m \u001b[1;33m:\u001b[0m\u001b[1;33m\u001b[0m\u001b[1;33m\u001b[0m\u001b[0m\n\u001b[1;32m----> 9\u001b[1;33m         \u001b[0mx\u001b[0m \u001b[1;33m=\u001b[0m \u001b[0mnp\u001b[0m\u001b[1;33m.\u001b[0m\u001b[0marray\u001b[0m\u001b[1;33m(\u001b[0m\u001b[1;33m[\u001b[0m \u001b[0mStandardScaler\u001b[0m\u001b[1;33m(\u001b[0m\u001b[1;33m)\u001b[0m\u001b[1;33m.\u001b[0m\u001b[0mfit_transform\u001b[0m\u001b[1;33m(\u001b[0m\u001b[0ma\u001b[0m\u001b[1;33m)\u001b[0m \u001b[1;32mfor\u001b[0m \u001b[0ma\u001b[0m \u001b[1;32min\u001b[0m \u001b[0mx\u001b[0m \u001b[1;33m]\u001b[0m\u001b[1;33m)\u001b[0m\u001b[1;33m\u001b[0m\u001b[1;33m\u001b[0m\u001b[0m\n\u001b[0m\u001b[0;32m     10\u001b[0m     \u001b[1;32melse\u001b[0m \u001b[1;33m:\u001b[0m\u001b[1;33m\u001b[0m\u001b[1;33m\u001b[0m\u001b[0m\n\u001b[0;32m     11\u001b[0m         \u001b[0mx\u001b[0m \u001b[1;33m=\u001b[0m \u001b[0mStandardScaler\u001b[0m\u001b[1;33m(\u001b[0m\u001b[1;33m)\u001b[0m\u001b[1;33m.\u001b[0m\u001b[0mfit_transform\u001b[0m\u001b[1;33m(\u001b[0m\u001b[0mx\u001b[0m\u001b[1;33m)\u001b[0m\u001b[1;33m\u001b[0m\u001b[1;33m\u001b[0m\u001b[0m\n",
      "\u001b[1;32m~\\.conda\\envs\\ada\\lib\\site-packages\\sklearn\\base.py\u001b[0m in \u001b[0;36mfit_transform\u001b[1;34m(self, X, y, **fit_params)\u001b[0m\n\u001b[0;32m    688\u001b[0m         \u001b[1;32mif\u001b[0m \u001b[0my\u001b[0m \u001b[1;32mis\u001b[0m \u001b[1;32mNone\u001b[0m\u001b[1;33m:\u001b[0m\u001b[1;33m\u001b[0m\u001b[1;33m\u001b[0m\u001b[0m\n\u001b[0;32m    689\u001b[0m             \u001b[1;31m# fit method of arity 1 (unsupervised transformation)\u001b[0m\u001b[1;33m\u001b[0m\u001b[1;33m\u001b[0m\u001b[1;33m\u001b[0m\u001b[0m\n\u001b[1;32m--> 690\u001b[1;33m             \u001b[1;32mreturn\u001b[0m \u001b[0mself\u001b[0m\u001b[1;33m.\u001b[0m\u001b[0mfit\u001b[0m\u001b[1;33m(\u001b[0m\u001b[0mX\u001b[0m\u001b[1;33m,\u001b[0m \u001b[1;33m**\u001b[0m\u001b[0mfit_params\u001b[0m\u001b[1;33m)\u001b[0m\u001b[1;33m.\u001b[0m\u001b[0mtransform\u001b[0m\u001b[1;33m(\u001b[0m\u001b[0mX\u001b[0m\u001b[1;33m)\u001b[0m\u001b[1;33m\u001b[0m\u001b[1;33m\u001b[0m\u001b[0m\n\u001b[0m\u001b[0;32m    691\u001b[0m         \u001b[1;32melse\u001b[0m\u001b[1;33m:\u001b[0m\u001b[1;33m\u001b[0m\u001b[1;33m\u001b[0m\u001b[0m\n\u001b[0;32m    692\u001b[0m             \u001b[1;31m# fit method of arity 2 (supervised transformation)\u001b[0m\u001b[1;33m\u001b[0m\u001b[1;33m\u001b[0m\u001b[1;33m\u001b[0m\u001b[0m\n",
      "\u001b[1;32m~\\.conda\\envs\\ada\\lib\\site-packages\\sklearn\\preprocessing\\_data.py\u001b[0m in \u001b[0;36mfit\u001b[1;34m(self, X, y)\u001b[0m\n\u001b[0;32m    665\u001b[0m         \u001b[1;31m# Reset internal state before fitting\u001b[0m\u001b[1;33m\u001b[0m\u001b[1;33m\u001b[0m\u001b[1;33m\u001b[0m\u001b[0m\n\u001b[0;32m    666\u001b[0m         \u001b[0mself\u001b[0m\u001b[1;33m.\u001b[0m\u001b[0m_reset\u001b[0m\u001b[1;33m(\u001b[0m\u001b[1;33m)\u001b[0m\u001b[1;33m\u001b[0m\u001b[1;33m\u001b[0m\u001b[0m\n\u001b[1;32m--> 667\u001b[1;33m         \u001b[1;32mreturn\u001b[0m \u001b[0mself\u001b[0m\u001b[1;33m.\u001b[0m\u001b[0mpartial_fit\u001b[0m\u001b[1;33m(\u001b[0m\u001b[0mX\u001b[0m\u001b[1;33m,\u001b[0m \u001b[0my\u001b[0m\u001b[1;33m)\u001b[0m\u001b[1;33m\u001b[0m\u001b[1;33m\u001b[0m\u001b[0m\n\u001b[0m\u001b[0;32m    668\u001b[0m \u001b[1;33m\u001b[0m\u001b[0m\n\u001b[0;32m    669\u001b[0m     \u001b[1;32mdef\u001b[0m \u001b[0mpartial_fit\u001b[0m\u001b[1;33m(\u001b[0m\u001b[0mself\u001b[0m\u001b[1;33m,\u001b[0m \u001b[0mX\u001b[0m\u001b[1;33m,\u001b[0m \u001b[0my\u001b[0m\u001b[1;33m=\u001b[0m\u001b[1;32mNone\u001b[0m\u001b[1;33m)\u001b[0m\u001b[1;33m:\u001b[0m\u001b[1;33m\u001b[0m\u001b[1;33m\u001b[0m\u001b[0m\n",
      "\u001b[1;32m~\\.conda\\envs\\ada\\lib\\site-packages\\sklearn\\preprocessing\\_data.py\u001b[0m in \u001b[0;36mpartial_fit\u001b[1;34m(self, X, y)\u001b[0m\n\u001b[0;32m    694\u001b[0m             \u001b[0mTransformer\u001b[0m \u001b[0minstance\u001b[0m\u001b[1;33m.\u001b[0m\u001b[1;33m\u001b[0m\u001b[1;33m\u001b[0m\u001b[0m\n\u001b[0;32m    695\u001b[0m         \"\"\"\n\u001b[1;32m--> 696\u001b[1;33m         X = self._validate_data(X, accept_sparse=('csr', 'csc'),\n\u001b[0m\u001b[0;32m    697\u001b[0m                                 \u001b[0mestimator\u001b[0m\u001b[1;33m=\u001b[0m\u001b[0mself\u001b[0m\u001b[1;33m,\u001b[0m \u001b[0mdtype\u001b[0m\u001b[1;33m=\u001b[0m\u001b[0mFLOAT_DTYPES\u001b[0m\u001b[1;33m,\u001b[0m\u001b[1;33m\u001b[0m\u001b[1;33m\u001b[0m\u001b[0m\n\u001b[0;32m    698\u001b[0m                                 force_all_finite='allow-nan')\n",
      "\u001b[1;32m~\\.conda\\envs\\ada\\lib\\site-packages\\sklearn\\base.py\u001b[0m in \u001b[0;36m_validate_data\u001b[1;34m(self, X, y, reset, validate_separately, **check_params)\u001b[0m\n\u001b[0;32m    418\u001b[0m                     \u001b[1;34mf\"requires y to be passed, but the target y is None.\"\u001b[0m\u001b[1;33m\u001b[0m\u001b[1;33m\u001b[0m\u001b[0m\n\u001b[0;32m    419\u001b[0m                 )\n\u001b[1;32m--> 420\u001b[1;33m             \u001b[0mX\u001b[0m \u001b[1;33m=\u001b[0m \u001b[0mcheck_array\u001b[0m\u001b[1;33m(\u001b[0m\u001b[0mX\u001b[0m\u001b[1;33m,\u001b[0m \u001b[1;33m**\u001b[0m\u001b[0mcheck_params\u001b[0m\u001b[1;33m)\u001b[0m\u001b[1;33m\u001b[0m\u001b[1;33m\u001b[0m\u001b[0m\n\u001b[0m\u001b[0;32m    421\u001b[0m             \u001b[0mout\u001b[0m \u001b[1;33m=\u001b[0m \u001b[0mX\u001b[0m\u001b[1;33m\u001b[0m\u001b[1;33m\u001b[0m\u001b[0m\n\u001b[0;32m    422\u001b[0m         \u001b[1;32melse\u001b[0m\u001b[1;33m:\u001b[0m\u001b[1;33m\u001b[0m\u001b[1;33m\u001b[0m\u001b[0m\n",
      "\u001b[1;32m~\\.conda\\envs\\ada\\lib\\site-packages\\sklearn\\utils\\validation.py\u001b[0m in \u001b[0;36minner_f\u001b[1;34m(*args, **kwargs)\u001b[0m\n\u001b[0;32m     70\u001b[0m                           FutureWarning)\n\u001b[0;32m     71\u001b[0m         \u001b[0mkwargs\u001b[0m\u001b[1;33m.\u001b[0m\u001b[0mupdate\u001b[0m\u001b[1;33m(\u001b[0m\u001b[1;33m{\u001b[0m\u001b[0mk\u001b[0m\u001b[1;33m:\u001b[0m \u001b[0marg\u001b[0m \u001b[1;32mfor\u001b[0m \u001b[0mk\u001b[0m\u001b[1;33m,\u001b[0m \u001b[0marg\u001b[0m \u001b[1;32min\u001b[0m \u001b[0mzip\u001b[0m\u001b[1;33m(\u001b[0m\u001b[0msig\u001b[0m\u001b[1;33m.\u001b[0m\u001b[0mparameters\u001b[0m\u001b[1;33m,\u001b[0m \u001b[0margs\u001b[0m\u001b[1;33m)\u001b[0m\u001b[1;33m}\u001b[0m\u001b[1;33m)\u001b[0m\u001b[1;33m\u001b[0m\u001b[1;33m\u001b[0m\u001b[0m\n\u001b[1;32m---> 72\u001b[1;33m         \u001b[1;32mreturn\u001b[0m \u001b[0mf\u001b[0m\u001b[1;33m(\u001b[0m\u001b[1;33m**\u001b[0m\u001b[0mkwargs\u001b[0m\u001b[1;33m)\u001b[0m\u001b[1;33m\u001b[0m\u001b[1;33m\u001b[0m\u001b[0m\n\u001b[0m\u001b[0;32m     73\u001b[0m     \u001b[1;32mreturn\u001b[0m \u001b[0minner_f\u001b[0m\u001b[1;33m\u001b[0m\u001b[1;33m\u001b[0m\u001b[0m\n\u001b[0;32m     74\u001b[0m \u001b[1;33m\u001b[0m\u001b[0m\n",
      "\u001b[1;32m~\\.conda\\envs\\ada\\lib\\site-packages\\sklearn\\utils\\validation.py\u001b[0m in \u001b[0;36mcheck_array\u001b[1;34m(array, accept_sparse, accept_large_sparse, dtype, order, copy, force_all_finite, ensure_2d, allow_nd, ensure_min_samples, ensure_min_features, estimator)\u001b[0m\n\u001b[0;32m    610\u001b[0m             \u001b[1;31m# If input is scalar raise error\u001b[0m\u001b[1;33m\u001b[0m\u001b[1;33m\u001b[0m\u001b[1;33m\u001b[0m\u001b[0m\n\u001b[0;32m    611\u001b[0m             \u001b[1;32mif\u001b[0m \u001b[0marray\u001b[0m\u001b[1;33m.\u001b[0m\u001b[0mndim\u001b[0m \u001b[1;33m==\u001b[0m \u001b[1;36m0\u001b[0m\u001b[1;33m:\u001b[0m\u001b[1;33m\u001b[0m\u001b[1;33m\u001b[0m\u001b[0m\n\u001b[1;32m--> 612\u001b[1;33m                 raise ValueError(\n\u001b[0m\u001b[0;32m    613\u001b[0m                     \u001b[1;34m\"Expected 2D array, got scalar array instead:\\narray={}.\\n\"\u001b[0m\u001b[1;33m\u001b[0m\u001b[1;33m\u001b[0m\u001b[0m\n\u001b[0;32m    614\u001b[0m                     \u001b[1;34m\"Reshape your data either using array.reshape(-1, 1) if \"\u001b[0m\u001b[1;33m\u001b[0m\u001b[1;33m\u001b[0m\u001b[0m\n",
      "\u001b[1;31mValueError\u001b[0m: Expected 2D array, got scalar array instead:\narray=-0.009954323422670053.\nReshape your data either using array.reshape(-1, 1) if your data has a single feature or array.reshape(1, -1) if it contains a single sample."
     ]
    }
   ],
   "source": [
    "test = get_test_data('../data/')\n",
    "test = compute_word_vectors(test, embeddings, 100, vocab)\n",
    "xtest = preprocess(test.mean_embed.tolist())\n",
    "\n",
    "model = classifiers['Neural Network'][0]\n",
    "predictions = model.predict(xtest)\n",
    "create_csv_submission(test.index, predictions, '../submission/submission.csv')"
   ]
  },
  {
   "cell_type": "code",
   "execution_count": 199,
   "metadata": {},
   "outputs": [
    {
     "name": "stdout",
     "output_type": "stream",
     "text": [
      "Models computed so far are the following.\n",
      " \n",
      "Classifier                                         | R2 Score            \n",
      "-----------------------------------------------------------------\n",
      "Linear Model                                       | 0.0528607913\n",
      "Logistic Regression                                | 0.5927200000\n",
      "Logistic Regression using cross-validation         | 0.5928000000\n",
      "SVM classifier                                     | 0.5940400000\n",
      "Neural Network                                     | 0.6162800000\n",
      "\n",
      "\n"
     ]
    }
   ],
   "source": [
    "# Recalling classifiers \n",
    "# stored in format : 'classifier name'=(classifier, R2 score) \n",
    "\n",
    "print(f\"Models computed so far are the following.\\n \")\n",
    "print(f\"{'Classifier':50s} | {'R2 Score':20s}\")\n",
    "print(f\"-----------------------------------------------------------------\")\n",
    "for k,v in classifiers.items() :\n",
    "    print(f\"{k:50s} | {v[1]:10.10f}\")\n",
    "print('\\n')"
   ]
  },
  {
   "cell_type": "markdown",
   "metadata": {},
   "source": [
    "## Results\n",
    "Here we detail previously computed results from `results/` folder."
   ]
  },
  {
   "cell_type": "markdown",
   "metadata": {},
   "source": [
    "### GloVe Dimensions evolution\n",
    "Below we detail how different metrics perform when the dimension of the word embeddings computed by GloVe algorithm changes."
   ]
  },
  {
   "cell_type": "code",
   "execution_count": 213,
   "metadata": {},
   "outputs": [
    {
     "name": "stdout",
     "output_type": "stream",
     "text": [
      "\n",
      "20 dimensions\n",
      "\n",
      "Accuracy : 0.585\n",
      "Label      | precision  | recall     | f1-score  \n",
      "pos        |   0.574874 |   0.671121 |   0.619280\n",
      "neg        |   0.599399 |   0.497868 |   0.543936\n",
      "\n",
      "50 dimensions\n",
      "\n",
      "Accuracy : 0.5896\n",
      "Label      | precision  | recall     | f1-score  \n",
      "pos        |   0.575301 |   0.671701 |   0.619775\n",
      "neg        |   0.609460 |   0.508167 |   0.554223\n",
      "\n",
      "100 dimensions\n",
      "\n",
      "Accuracy : 0.60904\n",
      "Label      | precision  | recall     | f1-score  \n",
      "pos        |   0.587911 |   0.726698 |   0.649979\n",
      "neg        |   0.643141 |   0.491608 |   0.557257\n",
      "\n",
      "250 dimensions\n",
      "\n",
      "Accuracy : 0.61628\n",
      "Label      | precision  | recall     | f1-score  \n",
      "pos        |   0.634955 |   0.542312 |   0.584988\n",
      "neg        |   0.602425 |   0.689859 |   0.643184\n"
     ]
    }
   ],
   "source": [
    "accs = []\n",
    "precs = []\n",
    "recs = []\n",
    "f1s = []\n",
    "\n",
    "\n",
    "for d in [20,50,100,250] :\n",
    "    print(f'\\n{d} dimensions\\n')\n",
    "    name = path+'metrics_'+str(local_t_size)+'_'+str(d)+'_baseline.npy'\n",
    "    r = np.load(name, allow_pickle=True)\n",
    "    r = r.item()\n",
    "    print(f\"Accuracy : {r['accuracy']}\")\n",
    "    print(f\"{'Label':10s} | {'precision':10s} | {'recall':10s} | {'f1-score':10s}\")\n",
    "    print(f\"{'pos':10s} | {r['pos']['precision']:10f} | {r['pos']['recall']:10f} | {r['pos']['f1-score']:10f}\")    \n",
    "    print(f\"{'neg':10s} | {r['neg']['precision']:10f} | {r['neg']['recall']:10f} | {r['neg']['f1-score']:10f}\")  \n",
    "    accs.append(r['accuracy'])\n",
    "    precs.append(r['pos']['precision'])\n",
    "    recs.append(r['pos']['recall'])\n",
    "    f1s.append(r['pos']['f1-score'])"
   ]
  },
  {
   "cell_type": "code",
   "execution_count": 236,
   "metadata": {},
   "outputs": [
    {
     "data": {
      "image/png": "[encoded data removed]",
      "text/plain": [
       "<Figure size 432x288 with 1 Axes>"
      ]
     },
     "metadata": {
      "needs_background": "light"
     },
     "output_type": "display_data"
    }
   ],
   "source": [
    "import matplotlib.pyplot as plt\n",
    "x = [20,50,100,250]\n",
    "plt.plot(x, accs)\n",
    "plt.plot(x, precs)\n",
    "plt.plot(x, recs)\n",
    "plt.plot(x, f1s)\n",
    "plt.legend(['accuracy','precision','recall','f1-score'])\n",
    "plt.xticks(ticks=np.arange(0,260,20))\n",
    "plt.vlines(190,ymin=0.53, ymax=0.725, color='black')\n",
    "name = '../plots/'+'metrics_'+str(local_t_size)+'_dims_baseline.png'\n",
    "plt.savefig(name, dpi=1000)\n",
    "plt.show()\n"
   ]
  },
  {
   "cell_type": "markdown",
   "metadata": {},
   "source": [
    "We note that the optimal number of dimensions seems to lie around **190** as the parameters are at their common highest at this point."
   ]
  }
 ],
 "metadata": {
  "kernelspec": {
   "display_name": "Python 3",
   "language": "python",
   "name": "python3"
  },
  "language_info": {
   "codemirror_mode": {
    "name": "ipython",
    "version": 3
   },
   "file_extension": ".py",
   "mimetype": "text/x-python",
   "name": "python",
   "nbconvert_exporter": "python",
   "pygments_lexer": "ipython3",
   "version": "3.8.5"
  }
 },
 "nbformat": 4,
 "nbformat_minor": 4
}
